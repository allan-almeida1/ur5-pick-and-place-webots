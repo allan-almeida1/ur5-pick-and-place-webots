{
 "cells": [
  {
   "attachments": {},
   "cell_type": "markdown",
   "metadata": {},
   "source": [
    "# Trabalho ENGA75"
   ]
  },
  {
   "attachments": {},
   "cell_type": "markdown",
   "metadata": {},
   "source": [
    "### Autor: Allan Almeida"
   ]
  },
  {
   "cell_type": "code",
   "execution_count": null,
   "metadata": {
    "ExecuteTime": {
     "end_time": "2023-06-06T20:33:58.579825Z",
     "start_time": "2023-06-06T20:33:58.531992Z"
    },
    "collapsed": true,
    "pycharm": {
     "is_executing": true
    }
   },
   "outputs": [],
   "source": [
    "from ur5 import UR5, forward_kinematics\n",
    "from math import pi\n",
    "import numpy as np\n",
    "ur5 = UR5()\n",
    "PI = pi"
   ]
  },
  {
   "attachments": {},
   "cell_type": "markdown",
   "metadata": {},
   "source": [
    "## Etapa A1\n",
    "\n",
    "Implementar a Cinemática Direta e Inversa do Robô UR5. Validar a modelagem com o auxílio do\n",
    "simulador para um conjunto de valores das variáveis das juntas (Cinemática Direta) e para um conjunto de\n",
    "posições e orientações da garra (Cinemática Inversa)"
   ]
  },
  {
   "attachments": {},
   "cell_type": "markdown",
   "metadata": {},
   "source": [
    "#### Cinemática Direta"
   ]
  },
  {
   "cell_type": "code",
   "execution_count": null,
   "metadata": {},
   "outputs": [],
   "source": [
    "def validate_fk(ang):\n",
    "    fk, _ = forward_kinematics(ang)    # Calcular cinemática direta a partir dos ângulos\n",
    "    print('Cinemática Direta: ')\n",
    "    print(fk)\n",
    "    ur5.move_to_config(ang)     # Mover para a posição\n",
    "    print('Ground Truth: ')\n",
    "    gt = ur5.get_ground_truth()     # Obter Ground Truth\n",
    "    print(gt)\n",
    "    print('Erro: ', np.linalg.norm(fk-gt)/np.linalg.norm(gt)*100, '%')  # Calcular e printar erro"
   ]
  },
  {
   "cell_type": "code",
   "execution_count": null,
   "metadata": {},
   "outputs": [],
   "source": [
    "validate_fk([0, 0, 0, 0, 0, 0])"
   ]
  },
  {
   "cell_type": "code",
   "execution_count": null,
   "metadata": {},
   "outputs": [],
   "source": [
    "validate_fk([.5*PI, .05*PI, .45*PI, 0, -.5*PI, .5*PI])"
   ]
  },
  {
   "cell_type": "code",
   "execution_count": null,
   "metadata": {},
   "outputs": [],
   "source": [
    "validate_fk([-.5*PI, -.05*PI, -.45*PI, 0, .5*PI, .5*PI])"
   ]
  },
  {
   "cell_type": "code",
   "execution_count": null,
   "metadata": {
    "ExecuteTime": {
     "end_time": "2023-06-06T20:39:30.874846Z",
     "start_time": "2023-06-06T20:39:28.848288Z"
    },
    "collapsed": false
   },
   "outputs": [],
   "source": [
    "ur5.actuate_gripper(close=0)"
   ]
  },
  {
   "cell_type": "code",
   "execution_count": null,
   "metadata": {
    "ExecuteTime": {
     "end_time": "2023-06-06T20:39:38.138293Z",
     "start_time": "2023-06-06T20:39:33.074807Z"
    },
    "collapsed": false
   },
   "outputs": [],
   "source": [
    "ur5.move_to_config([0, 0, 0, 0, 0, 0])"
   ]
  },
  {
   "cell_type": "code",
   "execution_count": null,
   "metadata": {
    "ExecuteTime": {
     "end_time": "2023-06-06T20:36:29.744549Z",
     "start_time": "2023-06-06T20:36:24.591725Z"
    },
    "collapsed": false
   },
   "outputs": [],
   "source": [
    "ur5.move_to_config([.5*pi, .05*pi, .45*pi, 0, -.5*pi, .5*pi])"
   ]
  },
  {
   "cell_type": "code",
   "execution_count": null,
   "metadata": {
    "ExecuteTime": {
     "end_time": "2023-06-06T20:38:35.330598Z",
     "start_time": "2023-06-06T20:38:30.263746Z"
    },
    "collapsed": false
   },
   "outputs": [],
   "source": [
    "ur5.move_to_config([.4*pi, .18*pi, .57*pi, 0.25*pi, 0.8, PI/2])"
   ]
  },
  {
   "cell_type": "code",
   "execution_count": null,
   "metadata": {
    "ExecuteTime": {
     "end_time": "2023-06-06T17:01:16.251656Z",
     "start_time": "2023-06-06T17:01:16.208996Z"
    },
    "collapsed": false
   },
   "outputs": [],
   "source": [
    "# bottle = supervisor.getFromDef('bottle')"
   ]
  },
  {
   "cell_type": "code",
   "execution_count": null,
   "metadata": {
    "ExecuteTime": {
     "end_time": "2023-06-06T17:11:59.339941Z",
     "start_time": "2023-06-06T17:11:59.292557Z"
    },
    "collapsed": false
   },
   "outputs": [],
   "source": [
    "# bottle.getField('translation').setSFVec3f([-1.467559345817077, 1.7836801495521285e-06, 0.9004484925267724])"
   ]
  },
  {
   "cell_type": "code",
   "execution_count": null,
   "metadata": {
    "ExecuteTime": {
     "end_time": "2023-06-06T17:17:59.302917Z",
     "start_time": "2023-06-06T17:17:59.298591Z"
    },
    "collapsed": false
   },
   "outputs": [],
   "source": [
    "# bottle.getField('translation').getSFVec3f()"
   ]
  }
 ],
 "metadata": {
  "kernelspec": {
   "display_name": "Python 3 (ipykernel)",
   "language": "python",
   "name": "python3"
  },
  "language_info": {
   "codemirror_mode": {
    "name": "ipython",
    "version": 3
   },
   "file_extension": ".py",
   "mimetype": "text/x-python",
   "name": "python",
   "nbconvert_exporter": "python",
   "pygments_lexer": "ipython3",
   "version": "3.9.16"
  }
 },
 "nbformat": 4,
 "nbformat_minor": 0
}
