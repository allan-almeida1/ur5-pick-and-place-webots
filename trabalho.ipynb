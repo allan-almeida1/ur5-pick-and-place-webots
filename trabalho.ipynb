{
 "cells": [
  {
   "attachments": {},
   "cell_type": "markdown",
   "metadata": {},
   "source": [
    "# Trabalho ENGA75"
   ]
  },
  {
   "attachments": {},
   "cell_type": "markdown",
   "metadata": {},
   "source": [
    "### Autor: Allan Almeida"
   ]
  },
  {
   "cell_type": "code",
   "execution_count": 1,
   "metadata": {
    "ExecuteTime": {
     "end_time": "2023-06-06T20:33:58.579825Z",
     "start_time": "2023-06-06T20:33:58.531992Z"
    },
    "collapsed": true,
    "pycharm": {
     "is_executing": true
    }
   },
   "outputs": [
    {
     "name": "stdout",
     "output_type": "stream",
     "text": [
      "Inicializando a classe UR5...\n",
      "Inicializando os nós e handles...\n",
      "Pronto!\n"
     ]
    }
   ],
   "source": [
    "from ur5 import UR5, forward_kinematics\n",
    "from math import pi\n",
    "import numpy as np\n",
    "import matplotlib.pyplot as plt\n",
    "ur5 = UR5()\n",
    "PI = pi"
   ]
  },
  {
   "cell_type": "code",
   "execution_count": 2,
   "metadata": {},
   "outputs": [
    {
     "data": {
      "text/plain": [
       "array([0., 0., 0., 0., 0., 0.])"
      ]
     },
     "execution_count": 2,
     "metadata": {},
     "output_type": "execute_result"
    }
   ],
   "source": [
    "ur5.get_joint_angles()"
   ]
  },
  {
   "attachments": {},
   "cell_type": "markdown",
   "metadata": {},
   "source": [
    "## Etapa A1\n",
    "\n",
    "Implementar a Cinemática Direta e Inversa do Robô UR5. Validar a modelagem com o auxílio do\n",
    "simulador para um conjunto de valores das variáveis das juntas (Cinemática Direta) e para um conjunto de\n",
    "posições e orientações da garra (Cinemática Inversa)"
   ]
  },
  {
   "attachments": {},
   "cell_type": "markdown",
   "metadata": {},
   "source": [
    "#### Cinemática Direta"
   ]
  },
  {
   "attachments": {},
   "cell_type": "markdown",
   "metadata": {},
   "source": [
    "<img src=\"Cinemática Direta (DH).png\" width=\"500\">"
   ]
  },
  {
   "cell_type": "code",
   "execution_count": 3,
   "metadata": {},
   "outputs": [],
   "source": [
    "def validate_fk(ang):\n",
    "    fk, _ = forward_kinematics(ang)    # Calcular cinemática direta a partir dos ângulos\n",
    "    print('Cinemática Direta: ')\n",
    "    print(fk)\n",
    "    ur5.move_to_config(ang)     # Mover para a posição\n",
    "    print('Ground Truth: ')\n",
    "    gt = ur5.get_ground_truth()     # Obter Ground Truth\n",
    "    print(gt)\n",
    "    print('Erro: ', np.linalg.norm(fk-gt)/np.linalg.norm(gt)*100, '%')  # Calcular e printar erro"
   ]
  },
  {
   "cell_type": "code",
   "execution_count": 5,
   "metadata": {},
   "outputs": [
    {
     "name": "stdout",
     "output_type": "stream",
     "text": [
      "Cinemática Direta: \n",
      "[[ 6.12323400e-17 -1.00000000e+00  1.22464680e-16  1.32000000e-01]\n",
      " [-1.00000000e+00 -6.12323400e-17 -1.03616896e-16 -5.57484648e-01]\n",
      " [ 1.17060840e-16 -1.22464680e-16 -1.00000000e+00  3.57767545e-01]\n",
      " [ 0.00000000e+00  0.00000000e+00  0.00000000e+00  1.00000000e+00]]\n",
      "Iterações totais:  47\n",
      "Ground Truth: \n",
      "[[ 3.36599360e-03 -9.99991114e-01  2.53805651e-03  1.34511983e-01]\n",
      " [-9.99994146e-01 -3.36754130e-03 -6.05769810e-04 -5.58872790e-01]\n",
      " [ 6.14311437e-04 -2.53600264e-03 -9.99996596e-01  3.57806434e-01]\n",
      " [ 0.00000000e+00  0.00000000e+00  0.00000000e+00  1.00000000e+00]]\n",
      "Erro:  0.316020881964555 %\n"
     ]
    }
   ],
   "source": [
    "validate_fk([.5*PI, .05*PI, .45*PI, 0, -.5*PI, .5*PI])"
   ]
  },
  {
   "cell_type": "code",
   "execution_count": 6,
   "metadata": {},
   "outputs": [
    {
     "name": "stdout",
     "output_type": "stream",
     "text": [
      "Cinemática Direta: \n",
      "[[ 6.12323400e-17 -1.00000000e+00 -1.22464680e-16 -1.32000000e-01]\n",
      " [-1.00000000e+00 -6.12323400e-17 -1.15059273e-16 -5.57484648e-01]\n",
      " [ 1.29870087e-16  1.22464680e-16 -1.00000000e+00  3.57767545e-01]\n",
      " [ 0.00000000e+00  0.00000000e+00  0.00000000e+00  1.00000000e+00]]\n",
      "Iterações totais:  251\n",
      "Ground Truth: \n",
      "[[ 0.00345106 -0.99999076  0.00256236 -0.13344829]\n",
      " [-0.99999281 -0.00344702  0.00158033 -0.55815123]\n",
      " [-0.00157149 -0.00256779 -0.99999547  0.35807236]\n",
      " [ 0.          0.          0.          1.        ]]\n",
      "Erro:  0.31614760499605016 %\n"
     ]
    }
   ],
   "source": [
    "validate_fk([-.5*PI, -.05*PI, -.45*PI, 0, .5*PI, .5*PI])"
   ]
  },
  {
   "cell_type": "code",
   "execution_count": null,
   "metadata": {},
   "outputs": [],
   "source": [
    "validate_fk([PI/2, 0, 0, 0, 0, 0])"
   ]
  },
  {
   "cell_type": "code",
   "execution_count": null,
   "metadata": {},
   "outputs": [],
   "source": [
    "validate_fk([.1*PI, .18*PI, .57*PI, 0.25*PI, 0.2, PI/2])"
   ]
  },
  {
   "cell_type": "code",
   "execution_count": null,
   "metadata": {},
   "outputs": [],
   "source": [
    "validate_fk([-.3*PI, -.04*PI, -.8*PI, -0.17*PI, -0.5, PI/2])"
   ]
  },
  {
   "cell_type": "code",
   "execution_count": null,
   "metadata": {},
   "outputs": [],
   "source": [
    "validate_fk([0.2, .04*PI, .8*PI, 0.17*PI, 0.3, PI/2])"
   ]
  },
  {
   "attachments": {},
   "cell_type": "markdown",
   "metadata": {},
   "source": [
    "#### Cinemática Inversa"
   ]
  },
  {
   "attachments": {},
   "cell_type": "markdown",
   "metadata": {},
   "source": [
    "<img src=\"gripper.jpg\" width=\"700\">"
   ]
  },
  {
   "cell_type": "code",
   "execution_count": null,
   "metadata": {},
   "outputs": [],
   "source": [
    "ur5.move_to_pose([-0.1, -.55, .4], [PI, 0, PI/2], wrist='up')"
   ]
  },
  {
   "cell_type": "code",
   "execution_count": null,
   "metadata": {},
   "outputs": [],
   "source": [
    "ur5.move_to_pose([-0.1, -.55, .4], [0, 0, -PI/2], wrist='down')"
   ]
  },
  {
   "cell_type": "code",
   "execution_count": null,
   "metadata": {},
   "outputs": [],
   "source": [
    "ur5.move_to_pose([-0.1, -.55, .4], [PI/2, 0, -PI/2], wrist='down')"
   ]
  },
  {
   "cell_type": "code",
   "execution_count": null,
   "metadata": {},
   "outputs": [],
   "source": [
    "ur5.move_to_pose([-0.1, -.45, .4], [PI/2, 0, -PI/2], wrist='down')"
   ]
  },
  {
   "cell_type": "code",
   "execution_count": null,
   "metadata": {},
   "outputs": [],
   "source": [
    "ur5.move_to_pose([-0.1, -.45, .25], [PI/2, 0, -PI/2], wrist='down')"
   ]
  },
  {
   "attachments": {},
   "cell_type": "markdown",
   "metadata": {},
   "source": [
    "## Etapa A2\n",
    "\n",
    "Implementar um sistema de planejamento de trajetórias no espaço de juntas com uma das abordagens\n",
    "abaixo:\n",
    "\n",
    "1. Trajetórias polinomiais cúbicas ou de quinto grau;\n",
    "2. Linear Segments with Parabolic Blends (LSPB);\n",
    "3. Minimum Time Trajectories"
   ]
  },
  {
   "attachments": {},
   "cell_type": "markdown",
   "metadata": {},
   "source": [
    "<b>Polinômio de Quinto Grau</b>"
   ]
  },
  {
   "attachments": {},
   "cell_type": "markdown",
   "metadata": {},
   "source": [
    "$q(t) = a_0+a_1 t + a_2 t^2 + a_3 t^3 + a_4 t^4 + a_5 t^5$\n",
    "\n",
    "$\\dot{q}(t) = a_1 + 2 a_2 t + 3 a_3 t^2 + 4 a_4 t^3 + 5 a_5 t^4$\n",
    "\n",
    "$\\ddot{q}(t) = 2 a_2 + 6 a_3 t + 12 a_4 t^2 + 20 a_5 t^3$"
   ]
  },
  {
   "attachments": {},
   "cell_type": "markdown",
   "metadata": {},
   "source": [
    "$\\begin{bmatrix}\n",
    "1 & t_0 & t_0^2 & t_0^3 & t_0^4 & t_0^5\\\\\n",
    "0 & 1 & 2t_0 & 3t_0^2 & 4t_0^3 & 5t_0^4\\\\\n",
    "0 & 0 & 2 & 6t_0 & 12t_0^2 & 20t_0^3\\\\\n",
    "1 & t_f & t_f^2 & t_f^3 & t_f^4 & t_f^5\\\\\n",
    "0 & 1 & 2t_f & 3t_f^2 & 4t_f^3 & 5t_f^4\\\\\n",
    "0 & 0 & 2 & 6t_f & 12t_f^2 & 20t_f^3\\\\\n",
    "\\end{bmatrix} \\cdot \\begin{bmatrix}\n",
    "a_0\\\\\n",
    "a_1\\\\\n",
    "a_2\\\\\n",
    "a_3\\\\\n",
    "a_4\\\\\n",
    "a_5\\\\\n",
    "\\end{bmatrix} = \\begin{bmatrix}\n",
    "q_0\\\\\n",
    "\\dot{q}_0\\\\\n",
    "\\ddot{q}_0\\\\\n",
    "q_f\\\\\n",
    "\\dot{q}_f\\\\\n",
    "\\ddot{q}_f\\\\\n",
    "\\end{bmatrix}$\n",
    "\n",
    "\n",
    "$A\\cdot X = B$"
   ]
  },
  {
   "cell_type": "code",
   "execution_count": null,
   "metadata": {},
   "outputs": [],
   "source": [
    "t, max_err, mean_err, graphs, _ = ur5.move_to_config([.5*PI, .05*PI, .45*PI, 0, .5*PI, .3*PI], graph=True)"
   ]
  },
  {
   "cell_type": "code",
   "execution_count": null,
   "metadata": {},
   "outputs": [],
   "source": [
    "titles = ['Posição', 'Velocidade', 'Aceleração', 'Solavanco']\n",
    "axes = ['rad', 'rad/s', 'rad/$s^2$', 'rad/$s^3$']\n",
    "\n",
    "for i in range(4):\n",
    "    for j in range(6):\n",
    "        plt.plot(graphs[4][j], graphs[i][j])\n",
    "    plt.legend(['q1', 'q2', 'q3', 'q4', 'q5', 'q6'])\n",
    "    plt.grid()\n",
    "    plt.title(titles[i], fontsize=18)\n",
    "    plt.ylabel(axes[i], rotation=0, labelpad=20)\n",
    "    plt.xlabel('t [s]')\n",
    "    plt.show()"
   ]
  },
  {
   "attachments": {},
   "cell_type": "markdown",
   "metadata": {},
   "source": [
    "## Jacobiano"
   ]
  },
  {
   "cell_type": "code",
   "execution_count": null,
   "metadata": {},
   "outputs": [],
   "source": [
    "_, _, _, _, _ = ur5.move_to_config([0, 0, 0, 0, 0, 0])"
   ]
  },
  {
   "cell_type": "code",
   "execution_count": null,
   "metadata": {},
   "outputs": [],
   "source": [
    "_, _, _, graphs, jacob = ur5.move_to_config([0, -PI/2, 0, 0, 0, 0], graph=True, jacob=True, duration=None)"
   ]
  },
  {
   "cell_type": "code",
   "execution_count": null,
   "metadata": {},
   "outputs": [],
   "source": [
    "for j in range(6):\n",
    "    plt.plot(graphs[4][j], graphs[1][j])\n",
    "plt.legend(['q1', 'q2', 'q3', 'q4', 'q5', 'q6'])\n",
    "plt.grid()\n",
    "plt.title('Velocidade', fontsize=18)\n",
    "plt.ylabel('rad/s', rotation=0, labelpad=20)\n",
    "plt.xlabel('t [s]')\n",
    "plt.show()"
   ]
  },
  {
   "cell_type": "code",
   "execution_count": null,
   "metadata": {},
   "outputs": [],
   "source": [
    "for j in range(3):\n",
    "    plt.plot(graphs[4][j], [i[j] for i in jacob])\n",
    "plt.title('Jacobiano (vel. lin.)', fontsize=18)\n",
    "plt.legend(['$v_x$', '$v_y$', '$v_z$'])\n",
    "plt.xlabel('t [s]')\n",
    "plt.ylabel('m/s', rotation=0, labelpad=20)\n",
    "plt.show()\n",
    "\n",
    "for j in range(3, 6):\n",
    "    plt.plot(graphs[4][j], [i[j] for i in jacob])\n",
    "plt.title('Jacobiano (vel,. ang.)', fontsize=18)\n",
    "plt.legend(['$\\omega_x$', '$\\omega_y$', '$\\omega_z$'])\n",
    "plt.xlabel('t [s]')\n",
    "plt.ylabel('rad/s', rotation=0, labelpad=20)\n",
    "plt.show()"
   ]
  },
  {
   "cell_type": "code",
   "execution_count": null,
   "metadata": {},
   "outputs": [],
   "source": [
    "ur5.move_to_config([0, 0, 0, 0, 0, 0])"
   ]
  },
  {
   "cell_type": "code",
   "execution_count": null,
   "metadata": {
    "ExecuteTime": {
     "end_time": "2023-06-06T20:39:30.874846Z",
     "start_time": "2023-06-06T20:39:28.848288Z"
    },
    "collapsed": false
   },
   "outputs": [],
   "source": [
    "ur5.actuate_gripper(close=0)"
   ]
  },
  {
   "cell_type": "code",
   "execution_count": null,
   "metadata": {
    "ExecuteTime": {
     "end_time": "2023-06-06T20:39:38.138293Z",
     "start_time": "2023-06-06T20:39:33.074807Z"
    },
    "collapsed": false
   },
   "outputs": [],
   "source": [
    "ur5.move_to_config([0, 0, 0, 0, 0, 0])"
   ]
  },
  {
   "cell_type": "code",
   "execution_count": null,
   "metadata": {
    "ExecuteTime": {
     "end_time": "2023-06-06T20:36:29.744549Z",
     "start_time": "2023-06-06T20:36:24.591725Z"
    },
    "collapsed": false
   },
   "outputs": [],
   "source": [
    "ur5.move_to_config([.5*pi, .05*pi, .45*pi, 0, -.5*pi, .5*pi])"
   ]
  },
  {
   "cell_type": "code",
   "execution_count": null,
   "metadata": {
    "ExecuteTime": {
     "end_time": "2023-06-06T20:38:35.330598Z",
     "start_time": "2023-06-06T20:38:30.263746Z"
    },
    "collapsed": false
   },
   "outputs": [],
   "source": [
    "ur5.move_to_config([.4*pi, .18*pi, .57*pi, 0.25*pi, 0.8, PI/2])"
   ]
  },
  {
   "cell_type": "code",
   "execution_count": null,
   "metadata": {
    "ExecuteTime": {
     "end_time": "2023-06-06T17:01:16.251656Z",
     "start_time": "2023-06-06T17:01:16.208996Z"
    },
    "collapsed": false
   },
   "outputs": [],
   "source": [
    "# bottle = supervisor.getFromDef('bottle')"
   ]
  },
  {
   "cell_type": "code",
   "execution_count": null,
   "metadata": {
    "ExecuteTime": {
     "end_time": "2023-06-06T17:11:59.339941Z",
     "start_time": "2023-06-06T17:11:59.292557Z"
    },
    "collapsed": false
   },
   "outputs": [],
   "source": [
    "# bottle.getField('translation').setSFVec3f([-1.467559345817077, 1.7836801495521285e-06, 0.9004484925267724])"
   ]
  },
  {
   "cell_type": "code",
   "execution_count": null,
   "metadata": {
    "ExecuteTime": {
     "end_time": "2023-06-06T17:17:59.302917Z",
     "start_time": "2023-06-06T17:17:59.298591Z"
    },
    "collapsed": false
   },
   "outputs": [],
   "source": [
    "# bottle.getField('translation').getSFVec3f()"
   ]
  }
 ],
 "metadata": {
  "kernelspec": {
   "display_name": "Python 3 (ipykernel)",
   "language": "python",
   "name": "python3"
  },
  "language_info": {
   "codemirror_mode": {
    "name": "ipython",
    "version": 3
   },
   "file_extension": ".py",
   "mimetype": "text/x-python",
   "name": "python",
   "nbconvert_exporter": "python",
   "pygments_lexer": "ipython3",
   "version": "3.9.16"
  }
 },
 "nbformat": 4,
 "nbformat_minor": 0
}
