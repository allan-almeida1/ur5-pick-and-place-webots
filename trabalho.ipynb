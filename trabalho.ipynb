{
 "cells": [
  {
   "cell_type": "code",
   "execution_count": 1,
   "metadata": {
    "collapsed": true,
    "ExecuteTime": {
     "start_time": "2023-06-06T18:38:03.381026Z",
     "end_time": "2023-06-06T18:38:03.382150Z"
    }
   },
   "outputs": [],
   "source": [
    "from controller import Supervisor\n",
    "from math import pi"
   ]
  },
  {
   "cell_type": "code",
   "execution_count": 2,
   "outputs": [],
   "source": [
    "supervisor = Supervisor()"
   ],
   "metadata": {
    "collapsed": false,
    "ExecuteTime": {
     "start_time": "2023-06-06T18:38:08.280672Z",
     "end_time": "2023-06-06T18:38:08.333441Z"
    }
   }
  },
  {
   "cell_type": "code",
   "execution_count": 21,
   "outputs": [],
   "source": [
    "bottle = supervisor.getFromDef('bottle')"
   ],
   "metadata": {
    "collapsed": false,
    "ExecuteTime": {
     "start_time": "2023-06-06T17:01:16.208996Z",
     "end_time": "2023-06-06T17:01:16.251656Z"
    }
   }
  },
  {
   "cell_type": "code",
   "execution_count": 42,
   "outputs": [],
   "source": [
    "timestep = int(supervisor.getBasicTimeStep())"
   ],
   "metadata": {
    "collapsed": false,
    "ExecuteTime": {
     "start_time": "2023-06-06T19:10:09.672681Z",
     "end_time": "2023-06-06T19:10:09.674709Z"
    }
   }
  },
  {
   "cell_type": "code",
   "execution_count": 3,
   "outputs": [
    {
     "name": "stdout",
     "output_type": "stream",
     "text": [
      "shoulder_pan_joint\n",
      "shoulder_pan_joint_sensor\n",
      "shoulder_lift_joint\n",
      "shoulder_lift_joint_sensor\n",
      "elbow_joint\n",
      "elbow_joint_sensor\n",
      "wrist_1_joint\n",
      "wrist_1_joint_sensor\n",
      "wrist_2_joint\n",
      "wrist_2_joint_sensor\n",
      "wrist_3_joint\n",
      "wrist_3_joint_sensor\n",
      "palm_finger_1_joint\n",
      "palm_finger_1_joint_sensor\n",
      "finger_1_joint_1\n",
      "finger_1_joint_1_sensor\n",
      "finger_1_joint_2\n",
      "finger_1_joint_2_sensor\n",
      "finger_1_joint_3\n",
      "finger_1_joint_3_sensor\n",
      "palm_finger_2_joint\n",
      "palm_finger_2_joint_sensor\n",
      "finger_2_joint_1\n",
      "finger_2_joint_1_sensor\n",
      "finger_2_joint_2\n",
      "finger_2_joint_2_sensor\n",
      "finger_2_joint_3\n",
      "finger_2_joint_3_sensor\n",
      "finger_middle_joint_1\n",
      "finger_middle_joint_1_sensor\n",
      "finger_middle_joint_2\n",
      "finger_middle_joint_2_sensor\n",
      "finger_middle_joint_3\n",
      "finger_middle_joint_3_sensor\n"
     ]
    }
   ],
   "source": [
    "for i in range(supervisor.getNumberOfDevices()):\n",
    "    print(supervisor.getDeviceByIndex(i).getName())"
   ],
   "metadata": {
    "collapsed": false,
    "ExecuteTime": {
     "start_time": "2023-06-06T18:42:37.529287Z",
     "end_time": "2023-06-06T18:42:37.573284Z"
    }
   }
  },
  {
   "cell_type": "code",
   "execution_count": 43,
   "outputs": [
    {
     "name": "stdout",
     "output_type": "stream",
     "text": [
      "0.05951118786152998\n",
      "0.010006672626415303\n",
      "-0.7999962175677562\n",
      "0.05950578182669263\n",
      "0.009999949270415021\n",
      "-0.7999962175677562\n",
      "0.05950399885655573\n",
      "0.010004053694486635\n",
      "-0.7999962175676159\n"
     ]
    }
   ],
   "source": [
    "joints = ['shoulder_pan_joint', 'shoulder_lift_joint', 'elbow_joint', 'wrist_1_joint', 'wrist_2_joint', 'wrist_3_joint']\n",
    "finger_joints = ['finger_1_joint_1', 'finger_1_joint_2', 'finger_1_joint_3',\n",
    "                 'finger_2_joint_1', 'finger_2_joint_2', 'finger_2_joint_3',\n",
    "                 'finger_middle_joint_1', 'finger_middle_joint_2', 'finger_middle_joint_3']\n",
    "joints = [supervisor.getDevice(joint) for joint in joints]\n",
    "finger_joints = [supervisor.getDevice(joint) for joint in finger_joints]\n",
    "finger_joint_limits = [[0.0595, 0.8], [0.01, 1], [-0.8, -0.0623],\n",
    "                       [0.0595, 0.8], [0.01, 1], [-0.8, -0.0623],\n",
    "                       [0.0595, 0.8], [0.01, 1], [-0.8,-0.0623]]\n",
    "\n",
    "for dev in joints:\n",
    "    dev.setPosition(float('inf'))\n",
    "    dev.setVelocity(0)\n",
    "    dev.setControlPID(1, 0, 0)\n",
    "    dev.getPositionSensor().enable(timestep)\n",
    "\n",
    "for dev in finger_joints:\n",
    "    dev.getPositionSensor().enable(timestep)\n",
    "    print(dev.getPositionSensor().getValue())\n"
   ],
   "metadata": {
    "collapsed": false,
    "ExecuteTime": {
     "start_time": "2023-06-06T19:10:11.692197Z",
     "end_time": "2023-06-06T19:10:11.694610Z"
    }
   }
  },
  {
   "cell_type": "code",
   "execution_count": 44,
   "outputs": [
    {
     "data": {
      "text/plain": "0"
     },
     "execution_count": 44,
     "metadata": {},
     "output_type": "execute_result"
    }
   ],
   "source": [
    "supervisor.step(timestep)"
   ],
   "metadata": {
    "collapsed": false,
    "ExecuteTime": {
     "start_time": "2023-06-06T19:10:23.056453Z",
     "end_time": "2023-06-06T19:10:23.076095Z"
    }
   }
  },
  {
   "cell_type": "code",
   "execution_count": 45,
   "outputs": [],
   "source": [
    "def get_joint_angles():\n",
    "    angles = [joint.getPositionSensor().getValue() for joint in joints]\n",
    "    angles[0] -= pi\n",
    "    angles[1] += pi/2\n",
    "    angles[3] += pi/2\n",
    "    return np.array(angles)"
   ],
   "metadata": {
    "collapsed": false,
    "ExecuteTime": {
     "start_time": "2023-06-06T19:10:26.683533Z",
     "end_time": "2023-06-06T19:10:26.685404Z"
    }
   }
  },
  {
   "cell_type": "code",
   "execution_count": 46,
   "outputs": [],
   "source": [
    "def get_finger_angles():\n",
    "    return np.array([joint.getPositionSensor().getValue() for joint in finger_joints])"
   ],
   "metadata": {
    "collapsed": false,
    "ExecuteTime": {
     "start_time": "2023-06-06T19:10:31.757356Z",
     "end_time": "2023-06-06T19:10:31.759511Z"
    }
   }
  },
  {
   "cell_type": "code",
   "execution_count": null,
   "outputs": [],
   "source": [
    "get_joint_angles()"
   ],
   "metadata": {
    "collapsed": false,
    "ExecuteTime": {
     "start_time": "2023-06-06T13:53:37.200991Z",
     "end_time": "2023-06-06T13:53:37.205686Z"
    }
   }
  },
  {
   "cell_type": "code",
   "execution_count": 47,
   "outputs": [],
   "source": [
    "import numpy as np"
   ],
   "metadata": {
    "collapsed": false,
    "ExecuteTime": {
     "start_time": "2023-06-06T19:10:36.482916Z",
     "end_time": "2023-06-06T19:10:36.528735Z"
    }
   }
  },
  {
   "cell_type": "code",
   "execution_count": 48,
   "outputs": [],
   "source": [
    "def move_to_config(target, duration=5):\n",
    "    t0 = supervisor.getTime()\n",
    "    v0 = np.zeros(6)\n",
    "    vf = np.zeros(6)\n",
    "    q0 = get_joint_angles()\n",
    "    qf = np.array(target)\n",
    "    a0 = np.zeros(6)\n",
    "    af = np.zeros(6)\n",
    "    tf = t0 + duration\n",
    "    A = np.array([[1, t0, t0**2, t0**3, t0**4, t0**5],\n",
    "                  [0, 1, 2*t0, 3*t0**2, 4*t0**3, 5*t0**4],\n",
    "                  [0, 0, 2, 6*t0, 12*t0**2, 20*t0**3],\n",
    "                  [1, tf, tf**2, tf**3, tf**4, tf**5],\n",
    "                  [0, 1, 2*tf, 3*tf**2, 4*tf**3, 5*tf**4],\n",
    "                  [0, 0, 2, 6*tf, 12*tf**2, 20*tf**3]])\n",
    "    b = np.array([q0, v0, a0, qf, vf, af])\n",
    "    x = [np.linalg.solve(A, b[:, i]) for i in range(6)]\n",
    "    time0 = supervisor.getTime()\n",
    "    iterations = 0\n",
    "    end_effector_vel = []\n",
    "    vel_jacob = [[], [], [], [], [], []]\n",
    "    pos = [[], [], [], [], [], []]\n",
    "    vel = [[], [], [], [], [], []]\n",
    "    acc = [[], [], [], [], [], []]\n",
    "    jerk = [[], [], [], [], [], []]\n",
    "    time_arr = [[], [], [], [], [], []]\n",
    "    while supervisor.getTime() <= tf:\n",
    "        t = supervisor.getTime()\n",
    "        for joint in joints:\n",
    "            joint.setVelocity(x[joints.index(joint)][1] +\n",
    "                              2*x[joints.index(joint)][2]*t +\n",
    "                              3*x[joints.index(joint)][3]*t**2 +\n",
    "                              4*x[joints.index(joint)][4]*t**3 +\n",
    "                              5*x[joints.index(joint)][5]*t**4)\n",
    "\n",
    "\n",
    "            idx = joints.index(joint)\n",
    "            p = x[idx][0] + x[idx][1]*t + x[idx][2]*t**2 + x[idx][3]*t**3 + x[idx][4]*t**4 + x[idx][5]*t**5\n",
    "            v = x[idx][1] + 2*x[idx][2]*t + 3*x[idx][3]*t**2 + 4*x[idx][4]*t**3 + 5*x[idx][5]*t**4\n",
    "            a = 2*x[idx][2] + 6*x[idx][3]*t + 12*x[idx][4]*t**2 + 20*x[idx][5]*t**3\n",
    "            j = 6*x[idx][3] + 24*x[idx][4]*t + 60*x[idx][5]*t**2\n",
    "            time_arr[idx].append(t-time0)\n",
    "            pos[idx].append(p)\n",
    "            vel[idx].append(v)\n",
    "            acc[idx].append(a)\n",
    "            jerk[idx].append(j)\n",
    "            v = x[idx][1] + 2*x[idx][2]*t + 3*x[idx][3]*t**2 + 4*x[idx][4]*t**3 + 5*x[idx][5]*t**4\n",
    "            vel_jacob[idx].append(v)\n",
    "        supervisor.step(timestep)\n",
    "        iterations += 1\n",
    "    for joint in joints:\n",
    "        joint.setVelocity(0)\n",
    "    timef = supervisor.getTime()\n",
    "    error = np.abs(np.array(target) - get_joint_angles())*180/np.pi\n",
    "    print('Iterações totais: ', iterations)\n",
    "    print(timef-time0)\n",
    "    print(np.max(error))\n",
    "    print(np.mean(error))"
   ],
   "metadata": {
    "collapsed": false,
    "ExecuteTime": {
     "start_time": "2023-06-06T19:10:42.234109Z",
     "end_time": "2023-06-06T19:10:42.235331Z"
    }
   }
  },
  {
   "cell_type": "code",
   "execution_count": 49,
   "outputs": [],
   "source": [
    "def actuate_gripper(close=0):\n",
    "    t0 = supervisor.getTime()\n",
    "    v0 = np.zeros(9)\n",
    "    vf = np.zeros(9)\n",
    "    q0 = get_finger_angles()\n",
    "    qf = np.hstack((np.array([lim[close] for lim in finger_joint_limits])))\n",
    "    a0 = np.zeros(9)\n",
    "    af = np.zeros(9)\n",
    "    tf = t0 + 2\n",
    "    A = np.array([[1, t0, t0**2, t0**3, t0**4, t0**5],\n",
    "                  [0, 1, 2*t0, 3*t0**2, 4*t0**3, 5*t0**4],\n",
    "                  [0, 0, 2, 6*t0, 12*t0**2, 20*t0**3],\n",
    "                  [1, tf, tf**2, tf**3, tf**4, tf**5],\n",
    "                  [0, 1, 2*tf, 3*tf**2, 4*tf**3, 5*tf**4],\n",
    "                  [0, 0, 2, 6*tf, 12*tf**2, 20*tf**3]])\n",
    "    b = np.array([q0, v0, a0, qf, vf, af])\n",
    "    x = [np.linalg.solve(A, b[:, i]) for i in range(9)]\n",
    "    time0 = supervisor.getTime()\n",
    "    iterations = 0\n",
    "    while supervisor.getTime() <= tf:\n",
    "        t = supervisor.getTime()\n",
    "        for idx, joint in enumerate(finger_joints):\n",
    "            joint.setPosition(x[idx][0] + x[idx][1]*t + x[idx][2]*t**2 + x[idx][3]*t**3 + x[idx][4]*t**4 + x[idx][5]*t**5)\n",
    "        supervisor.step(timestep)\n",
    "        iterations += 1\n",
    "    for i, joint in enumerate(joints):\n",
    "        joint.setPosition(finger_joint_limits[i][close])\n",
    "    timef = supervisor.getTime()\n",
    "    print('Iterações totais: ', iterations)\n",
    "    print(timef-time0)"
   ],
   "metadata": {
    "collapsed": false,
    "ExecuteTime": {
     "start_time": "2023-06-06T19:10:46.057819Z",
     "end_time": "2023-06-06T19:10:46.060247Z"
    }
   }
  },
  {
   "cell_type": "code",
   "execution_count": 52,
   "outputs": [
    {
     "name": "stdout",
     "output_type": "stream",
     "text": [
      "Iterações totais:  63\n",
      "2.016\n"
     ]
    }
   ],
   "source": [
    "actuate_gripper(0)"
   ],
   "metadata": {
    "collapsed": false,
    "ExecuteTime": {
     "start_time": "2023-06-06T19:11:32.243545Z",
     "end_time": "2023-06-06T19:11:34.284220Z"
    }
   }
  },
  {
   "cell_type": "code",
   "execution_count": 51,
   "outputs": [],
   "source": [
    "# bottle.getField('translation').setSFVec3f([-1.467559345817077, 1.7836801495521285e-06, 0.9004484925267724])"
   ],
   "metadata": {
    "collapsed": false,
    "ExecuteTime": {
     "start_time": "2023-06-06T17:11:59.292557Z",
     "end_time": "2023-06-06T17:11:59.339941Z"
    }
   }
  },
  {
   "cell_type": "code",
   "execution_count": 150,
   "outputs": [
    {
     "data": {
      "text/plain": "[-1.467559345817077, 1.7836801495521285e-06, 0.9004484925267724]"
     },
     "execution_count": 150,
     "metadata": {},
     "output_type": "execute_result"
    }
   ],
   "source": [
    "bottle.getField('translation').getSFVec3f()"
   ],
   "metadata": {
    "collapsed": false,
    "ExecuteTime": {
     "start_time": "2023-06-06T17:17:59.298591Z",
     "end_time": "2023-06-06T17:17:59.302917Z"
    }
   }
  },
  {
   "cell_type": "code",
   "execution_count": 149,
   "outputs": [
    {
     "data": {
      "text/plain": "0"
     },
     "execution_count": 149,
     "metadata": {},
     "output_type": "execute_result"
    }
   ],
   "source": [
    "supervisor.step(timestep)"
   ],
   "metadata": {
    "collapsed": false,
    "ExecuteTime": {
     "start_time": "2023-06-06T17:13:45.122897Z",
     "end_time": "2023-06-06T17:13:45.126050Z"
    }
   }
  },
  {
   "cell_type": "code",
   "execution_count": 50,
   "outputs": [
    {
     "name": "stdout",
     "output_type": "stream",
     "text": [
      "Iterações totais:  157\n",
      "5.024\n",
      "0.1360267852177979\n",
      "0.03290354636429906\n"
     ]
    }
   ],
   "source": [
    "move_to_config([0, 0, 0, 0, 0, 0])"
   ],
   "metadata": {
    "collapsed": false,
    "ExecuteTime": {
     "start_time": "2023-06-06T19:10:51.313921Z",
     "end_time": "2023-06-06T19:10:56.398258Z"
    }
   }
  },
  {
   "cell_type": "code",
   "execution_count": null,
   "outputs": [],
   "source": [
    "move_to_config([.5*pi, .05*pi, .45*pi, 0, -.5*pi, .5*pi])"
   ],
   "metadata": {
    "collapsed": false,
    "ExecuteTime": {
     "start_time": "2023-06-06T14:13:04.402640Z",
     "end_time": "2023-06-06T14:13:09.472073Z"
    }
   }
  },
  {
   "cell_type": "code",
   "execution_count": 29,
   "outputs": [
    {
     "name": "stdout",
     "output_type": "stream",
     "text": [
      "Iterações totais:  157\n",
      "5.024\n",
      "0.061558482575319484\n",
      "0.02059982695085481\n"
     ]
    }
   ],
   "source": [
    "move_to_config([-.5*pi, -.05*pi, -.45*pi, 0, .5*pi, .5*pi])"
   ],
   "metadata": {
    "collapsed": false,
    "ExecuteTime": {
     "start_time": "2023-06-06T17:01:44.956760Z",
     "end_time": "2023-06-06T17:01:49.884490Z"
    }
   }
  },
  {
   "cell_type": "code",
   "execution_count": null,
   "outputs": [],
   "source": [
    "move_to_config([pi/2, 0, 0, 0, 0, 0])"
   ],
   "metadata": {
    "collapsed": false,
    "ExecuteTime": {
     "start_time": "2023-06-06T13:54:15.844476Z",
     "end_time": "2023-06-06T13:54:20.926604Z"
    }
   }
  },
  {
   "cell_type": "code",
   "execution_count": null,
   "outputs": [],
   "source": [
    "move_to_config([.1*pi, .18*pi, .57*pi, 0.25*pi, 0.2, pi/2])"
   ],
   "metadata": {
    "collapsed": false,
    "ExecuteTime": {
     "start_time": "2023-06-06T13:54:24.129261Z",
     "end_time": "2023-06-06T13:54:29.211227Z"
    }
   }
  },
  {
   "cell_type": "code",
   "execution_count": 31,
   "outputs": [
    {
     "name": "stdout",
     "output_type": "stream",
     "text": [
      "Iterações totais:  157\n",
      "5.023999999999999\n",
      "0.0560465910454353\n",
      "0.016566226537031412\n"
     ]
    }
   ],
   "source": [
    "move_to_config([-.3*pi, -.04*pi, -.8*pi, -0.17*pi, -0.5, 0])"
   ],
   "metadata": {
    "collapsed": false,
    "ExecuteTime": {
     "start_time": "2023-06-06T17:02:21.872313Z",
     "end_time": "2023-06-06T17:02:26.952091Z"
    }
   }
  },
  {
   "cell_type": "code",
   "execution_count": null,
   "outputs": [],
   "source": [
    "move_to_config([0.2, .04*pi, .8*pi, 0.17*pi, 0.3, pi/2])"
   ],
   "metadata": {
    "collapsed": false,
    "ExecuteTime": {
     "start_time": "2023-06-06T13:55:43.818666Z",
     "end_time": "2023-06-06T13:55:48.872835Z"
    }
   }
  }
 ],
 "metadata": {
  "kernelspec": {
   "display_name": "Python 3",
   "language": "python",
   "name": "python3"
  },
  "language_info": {
   "codemirror_mode": {
    "name": "ipython",
    "version": 2
   },
   "file_extension": ".py",
   "mimetype": "text/x-python",
   "name": "python",
   "nbconvert_exporter": "python",
   "pygments_lexer": "ipython2",
   "version": "2.7.6"
  }
 },
 "nbformat": 4,
 "nbformat_minor": 0
}
