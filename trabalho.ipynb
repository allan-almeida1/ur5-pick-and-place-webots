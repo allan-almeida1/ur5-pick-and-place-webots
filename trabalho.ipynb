{
 "cells": [
  {
   "cell_type": "code",
   "execution_count": 1,
   "metadata": {
    "collapsed": true,
    "ExecuteTime": {
     "start_time": "2023-06-06T20:33:58.531992Z",
     "end_time": "2023-06-06T20:33:58.579825Z"
    }
   },
   "outputs": [
    {
     "name": "stdout",
     "output_type": "stream",
     "text": [
      "Inicializando a classe UR5...\n",
      "Inicializando os nós e handles...\n",
      "Pronto!\n"
     ]
    }
   ],
   "source": [
    "from ur5 import UR5\n",
    "from math import pi\n",
    "ur5 = UR5()"
   ]
  },
  {
   "cell_type": "code",
   "execution_count": 15,
   "outputs": [
    {
     "name": "stdout",
     "output_type": "stream",
     "text": [
      "Iterações totais:  63\n",
      "2.0160000000000053\n"
     ]
    }
   ],
   "source": [
    "ur5.actuate_gripper(close=0)"
   ],
   "metadata": {
    "collapsed": false,
    "ExecuteTime": {
     "start_time": "2023-06-06T20:39:28.848288Z",
     "end_time": "2023-06-06T20:39:30.874846Z"
    }
   }
  },
  {
   "cell_type": "code",
   "execution_count": 16,
   "outputs": [
    {
     "name": "stdout",
     "output_type": "stream",
     "text": [
      "Iterações totais:  157\n"
     ]
    },
    {
     "data": {
      "text/plain": "(5.024000000000001, 0.0874086364959358, 0.024220451156261234)"
     },
     "execution_count": 16,
     "metadata": {},
     "output_type": "execute_result"
    }
   ],
   "source": [
    "ur5.move_to_config([0, 0, 0, 0, 0, 0])"
   ],
   "metadata": {
    "collapsed": false,
    "ExecuteTime": {
     "start_time": "2023-06-06T20:39:33.074807Z",
     "end_time": "2023-06-06T20:39:38.138293Z"
    }
   }
  },
  {
   "cell_type": "code",
   "execution_count": 10,
   "outputs": [
    {
     "name": "stdout",
     "output_type": "stream",
     "text": [
      "Iterações totais:  157\n"
     ]
    },
    {
     "data": {
      "text/plain": "(5.024000000000001, 0.060937855363108376, 0.020154995541893792)"
     },
     "execution_count": 10,
     "metadata": {},
     "output_type": "execute_result"
    }
   ],
   "source": [
    "ur5.move_to_config([.5*pi, .05*pi, .45*pi, 0, -.5*pi, .5*pi])"
   ],
   "metadata": {
    "collapsed": false,
    "ExecuteTime": {
     "start_time": "2023-06-06T20:36:24.591725Z",
     "end_time": "2023-06-06T20:36:29.744549Z"
    }
   }
  },
  {
   "cell_type": "code",
   "execution_count": 13,
   "outputs": [
    {
     "name": "stdout",
     "output_type": "stream",
     "text": [
      "Iterações totais:  157\n"
     ]
    },
    {
     "data": {
      "text/plain": "(5.023999999999987, 0.1298265970958708, 0.03095778885135332)"
     },
     "execution_count": 13,
     "metadata": {},
     "output_type": "execute_result"
    }
   ],
   "source": [
    "ur5.move_to_config([.1*pi, .18*pi, .57*pi, 0.25*pi, 0.2, 0])"
   ],
   "metadata": {
    "collapsed": false,
    "ExecuteTime": {
     "start_time": "2023-06-06T20:38:30.263746Z",
     "end_time": "2023-06-06T20:38:35.330598Z"
    }
   }
  },
  {
   "cell_type": "code",
   "execution_count": null,
   "outputs": [],
   "source": [
    "# bottle = supervisor.getFromDef('bottle')"
   ],
   "metadata": {
    "collapsed": false,
    "ExecuteTime": {
     "start_time": "2023-06-06T17:01:16.208996Z",
     "end_time": "2023-06-06T17:01:16.251656Z"
    }
   }
  },
  {
   "cell_type": "code",
   "execution_count": null,
   "outputs": [],
   "source": [
    "# bottle.getField('translation').setSFVec3f([-1.467559345817077, 1.7836801495521285e-06, 0.9004484925267724])"
   ],
   "metadata": {
    "collapsed": false,
    "ExecuteTime": {
     "start_time": "2023-06-06T17:11:59.292557Z",
     "end_time": "2023-06-06T17:11:59.339941Z"
    }
   }
  },
  {
   "cell_type": "code",
   "execution_count": null,
   "outputs": [],
   "source": [
    "# bottle.getField('translation').getSFVec3f()"
   ],
   "metadata": {
    "collapsed": false,
    "ExecuteTime": {
     "start_time": "2023-06-06T17:17:59.298591Z",
     "end_time": "2023-06-06T17:17:59.302917Z"
    }
   }
  }
 ],
 "metadata": {
  "kernelspec": {
   "display_name": "Python 3",
   "language": "python",
   "name": "python3"
  },
  "language_info": {
   "codemirror_mode": {
    "name": "ipython",
    "version": 2
   },
   "file_extension": ".py",
   "mimetype": "text/x-python",
   "name": "python",
   "nbconvert_exporter": "python",
   "pygments_lexer": "ipython2",
   "version": "2.7.6"
  }
 },
 "nbformat": 4,
 "nbformat_minor": 0
}
