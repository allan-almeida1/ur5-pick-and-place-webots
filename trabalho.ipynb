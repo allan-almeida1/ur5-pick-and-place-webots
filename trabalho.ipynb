{
 "cells": [
  {
   "attachments": {},
   "cell_type": "markdown",
   "metadata": {},
   "source": [
    "# Trabalho ENGA75"
   ]
  },
  {
   "attachments": {},
   "cell_type": "markdown",
   "metadata": {},
   "source": [
    "### Autor: Allan Almeida"
   ]
  },
  {
   "cell_type": "code",
   "execution_count": 1,
   "metadata": {
    "ExecuteTime": {
     "end_time": "2023-06-06T20:33:58.579825Z",
     "start_time": "2023-06-06T20:33:58.531992Z"
    },
    "collapsed": true,
    "pycharm": {
     "is_executing": true
    }
   },
   "outputs": [
    {
     "name": "stdout",
     "output_type": "stream",
     "text": [
      "Inicializando a classe UR5...\n",
      "Inicializando os nós e handles...\n",
      "Pronto!\n"
     ]
    }
   ],
   "source": [
    "from ur5 import UR5, forward_kinematics\n",
    "from math import pi\n",
    "import numpy as np\n",
    "ur5 = UR5()\n",
    "PI = pi"
   ]
  },
  {
   "attachments": {},
   "cell_type": "markdown",
   "metadata": {},
   "source": [
    "## Etapa A1\n",
    "\n",
    "Implementar a Cinemática Direta e Inversa do Robô UR5. Validar a modelagem com o auxílio do\n",
    "simulador para um conjunto de valores das variáveis das juntas (Cinemática Direta) e para um conjunto de\n",
    "posições e orientações da garra (Cinemática Inversa)"
   ]
  },
  {
   "attachments": {},
   "cell_type": "markdown",
   "metadata": {},
   "source": [
    "#### Cinemática Direta"
   ]
  },
  {
   "cell_type": "code",
   "execution_count": 2,
   "metadata": {},
   "outputs": [],
   "source": [
    "def validate_fk(ang):\n",
    "    fk, _ = forward_kinematics(ang)    # Calcular cinemática direta a partir dos ângulos\n",
    "    print('Cinemática Direta: ')\n",
    "    print(fk)\n",
    "    ur5.move_to_config(ang)     # Mover para a posição\n",
    "    print('Ground Truth: ')\n",
    "    gt = ur5.get_ground_truth()     # Obter Ground Truth\n",
    "    print(gt)\n",
    "    print('Erro: ', np.linalg.norm(fk-gt)/np.linalg.norm(gt)*100, '%')  # Calcular e printar erro"
   ]
  },
  {
   "cell_type": "code",
   "execution_count": 6,
   "metadata": {},
   "outputs": [
    {
     "name": "stdout",
     "output_type": "stream",
     "text": [
      "Cinemática Direta: \n",
      "[[ 6.12323400e-17 -1.00000000e+00  1.22464680e-16  1.09150000e-01]\n",
      " [-1.00000000e+00 -6.12323400e-17 -1.03616896e-16 -5.53384648e-01]\n",
      " [ 1.17060840e-16 -1.22464680e-16 -1.00000000e+00  3.03016545e-01]\n",
      " [ 0.00000000e+00  0.00000000e+00  0.00000000e+00  1.00000000e+00]]\n",
      "Iterações totais:  157\n",
      "Ground Truth: \n",
      "[[ 1.89973260e-05 -9.99999990e-01  1.39024490e-04  1.34025113e-01]\n",
      " [-9.99999999e-01 -1.90036843e-05 -4.57336868e-05 -5.58519465e-01]\n",
      " [ 4.57363284e-05 -1.39023621e-04 -9.99999989e-01  3.58208056e-01]\n",
      " [ 0.00000000e+00  0.00000000e+00  0.00000000e+00  1.00000000e+00]]\n",
      "Erro:  2.8774514057411085 %\n"
     ]
    }
   ],
   "source": [
    "validate_fk([.5*PI, .05*PI, .45*PI, 0, -.5*PI, .5*PI])"
   ]
  },
  {
   "cell_type": "code",
   "execution_count": 13,
   "metadata": {},
   "outputs": [
    {
     "name": "stdout",
     "output_type": "stream",
     "text": [
      "Cinemática Direta: \n",
      "[[ 6.12323400e-17 -1.00000000e+00 -1.22464680e-16 -1.09150000e-01]\n",
      " [-1.00000000e+00 -6.12323400e-17 -1.15059273e-16 -5.53384648e-01]\n",
      " [ 1.29870087e-16  1.22464680e-16 -1.00000000e+00  3.03016545e-01]\n",
      " [ 0.00000000e+00  0.00000000e+00  0.00000000e+00  1.00000000e+00]]\n",
      "Iterações totais:  157\n",
      "Ground Truth: \n",
      "[[ 4.32548576e-05 -9.99999997e-01 -6.86566799e-05 -1.33900792e-01]\n",
      " [-9.99999563e-01 -4.31907140e-05 -9.33992355e-04 -5.58492594e-01]\n",
      " [ 9.33989387e-04  6.86970496e-05 -9.99999561e-01  3.58631858e-01]\n",
      " [ 0.00000000e+00  0.00000000e+00  0.00000000e+00  1.00000000e+00]]\n",
      "Erro:  2.893786129919564 %\n"
     ]
    }
   ],
   "source": [
    "validate_fk([-.5*PI, -.05*PI, -.45*PI, 0, .5*PI, .5*PI])"
   ]
  },
  {
   "cell_type": "code",
   "execution_count": 14,
   "metadata": {
    "ExecuteTime": {
     "end_time": "2023-06-06T20:39:30.874846Z",
     "start_time": "2023-06-06T20:39:28.848288Z"
    },
    "collapsed": false
   },
   "outputs": [
    {
     "name": "stdout",
     "output_type": "stream",
     "text": [
      "Iterações totais:  63\n",
      "2.0160000000000053\n"
     ]
    }
   ],
   "source": [
    "ur5.actuate_gripper(close=0)"
   ]
  },
  {
   "cell_type": "code",
   "execution_count": 15,
   "metadata": {
    "ExecuteTime": {
     "end_time": "2023-06-06T20:39:38.138293Z",
     "start_time": "2023-06-06T20:39:33.074807Z"
    },
    "collapsed": false
   },
   "outputs": [
    {
     "name": "stdout",
     "output_type": "stream",
     "text": [
      "Iterações totais:  157\n"
     ]
    },
    {
     "data": {
      "text/plain": [
       "(5.023999999999994, 0.06215621800345908, 0.02097129041154536)"
      ]
     },
     "execution_count": 15,
     "metadata": {},
     "output_type": "execute_result"
    }
   ],
   "source": [
    "ur5.move_to_config([0, 0, 0, 0, 0, 0])"
   ]
  },
  {
   "cell_type": "code",
   "execution_count": 7,
   "metadata": {
    "ExecuteTime": {
     "end_time": "2023-06-06T20:36:29.744549Z",
     "start_time": "2023-06-06T20:36:24.591725Z"
    },
    "collapsed": false
   },
   "outputs": [
    {
     "name": "stdout",
     "output_type": "stream",
     "text": [
      "Iterações totais:  157\n"
     ]
    },
    {
     "data": {
      "text/plain": [
       "(5.024000000000001, 0.10390928968378059, 0.032766049589412795)"
      ]
     },
     "execution_count": 7,
     "metadata": {},
     "output_type": "execute_result"
    }
   ],
   "source": [
    "ur5.move_to_config([.5*pi, .05*pi, .45*pi, 0, -.5*pi, .5*pi])"
   ]
  },
  {
   "cell_type": "code",
   "execution_count": 11,
   "metadata": {
    "ExecuteTime": {
     "end_time": "2023-06-06T20:38:35.330598Z",
     "start_time": "2023-06-06T20:38:30.263746Z"
    },
    "collapsed": false
   },
   "outputs": [
    {
     "name": "stdout",
     "output_type": "stream",
     "text": [
      "Iterações totais:  157\n"
     ]
    },
    {
     "data": {
      "text/plain": [
       "(5.024000000000001, 0.13436096759997243, 0.03326078798164792)"
      ]
     },
     "execution_count": 11,
     "metadata": {},
     "output_type": "execute_result"
    }
   ],
   "source": [
    "ur5.move_to_config([.4*pi, .18*pi, .57*pi, 0.25*pi, 0.8, PI/2])"
   ]
  },
  {
   "cell_type": "code",
   "execution_count": null,
   "metadata": {
    "ExecuteTime": {
     "end_time": "2023-06-06T17:01:16.251656Z",
     "start_time": "2023-06-06T17:01:16.208996Z"
    },
    "collapsed": false
   },
   "outputs": [],
   "source": [
    "# bottle = supervisor.getFromDef('bottle')"
   ]
  },
  {
   "cell_type": "code",
   "execution_count": null,
   "metadata": {
    "ExecuteTime": {
     "end_time": "2023-06-06T17:11:59.339941Z",
     "start_time": "2023-06-06T17:11:59.292557Z"
    },
    "collapsed": false
   },
   "outputs": [],
   "source": [
    "# bottle.getField('translation').setSFVec3f([-1.467559345817077, 1.7836801495521285e-06, 0.9004484925267724])"
   ]
  },
  {
   "cell_type": "code",
   "execution_count": null,
   "metadata": {
    "ExecuteTime": {
     "end_time": "2023-06-06T17:17:59.302917Z",
     "start_time": "2023-06-06T17:17:59.298591Z"
    },
    "collapsed": false
   },
   "outputs": [],
   "source": [
    "# bottle.getField('translation').getSFVec3f()"
   ]
  }
 ],
 "metadata": {
  "kernelspec": {
   "display_name": "Python 3 (ipykernel)",
   "language": "python",
   "name": "python3"
  },
  "language_info": {
   "codemirror_mode": {
    "name": "ipython",
    "version": 3
   },
   "file_extension": ".py",
   "mimetype": "text/x-python",
   "name": "python",
   "nbconvert_exporter": "python",
   "pygments_lexer": "ipython3",
   "version": "3.9.16"
  }
 },
 "nbformat": 4,
 "nbformat_minor": 0
}
