{
 "cells": [
  {
   "cell_type": "code",
   "execution_count": 5,
   "outputs": [
    {
     "name": "stderr",
     "output_type": "stream",
     "text": [
      "IOPub data rate exceeded.\n",
      "The Jupyter server will temporarily stop sending output\n",
      "to the client in order to avoid crashing it.\n",
      "To change this limit, set the config variable\n",
      "`--ServerApp.iopub_data_rate_limit`.\n",
      "\n",
      "Current values:\n",
      "ServerApp.iopub_data_rate_limit=1000000.0 (bytes/sec)\n",
      "ServerApp.rate_limit_window=3.0 (secs)\n",
      "\n"
     ]
    }
   ],
   "source": [
    "%history -g"
   ],
   "metadata": {
    "collapsed": false,
    "ExecuteTime": {
     "start_time": "2023-06-06T14:01:36.516714Z",
     "end_time": "2023-06-06T14:01:36.653313Z"
    }
   }
  },
  {
   "cell_type": "code",
   "execution_count": 6,
   "metadata": {
    "collapsed": true,
    "ExecuteTime": {
     "start_time": "2023-06-06T14:08:19.955666Z",
     "end_time": "2023-06-06T14:08:19.957789Z"
    }
   },
   "outputs": [],
   "source": [
    "from controller import Supervisor\n",
    "from math import pi"
   ]
  },
  {
   "cell_type": "code",
   "execution_count": 7,
   "outputs": [
    {
     "name": "stderr",
     "output_type": "stream",
     "text": [
      "Error: only one Robot instance can be created per controller process.\n"
     ]
    }
   ],
   "source": [
    "supervisor = Supervisor()"
   ],
   "metadata": {
    "collapsed": false,
    "ExecuteTime": {
     "start_time": "2023-06-06T14:08:21.858726Z",
     "end_time": "2023-06-06T14:08:21.861679Z"
    }
   }
  },
  {
   "cell_type": "code",
   "execution_count": 8,
   "outputs": [],
   "source": [
    "timestep = int(supervisor.getBasicTimeStep())"
   ],
   "metadata": {
    "collapsed": false,
    "ExecuteTime": {
     "start_time": "2023-06-06T14:08:23.545315Z",
     "end_time": "2023-06-06T14:08:23.547769Z"
    }
   }
  },
  {
   "cell_type": "markdown",
   "source": [],
   "metadata": {
    "collapsed": false,
    "ExecuteTime": {
     "start_time": "2023-06-06T13:53:29.509369Z",
     "end_time": "2023-06-06T13:53:29.512164Z"
    }
   },
   "outputs": [
    {
     "data": {
      "text/plain": "34"
     },
     "execution_count": 4,
     "metadata": {},
     "output_type": "execute_result"
    }
   ],
   "execution_count": 4
  },
  {
   "cell_type": "code",
   "execution_count": 9,
   "outputs": [
    {
     "ename": "AttributeError",
     "evalue": "'Supervisor' object has no attribute 'devices'",
     "output_type": "error",
     "traceback": [
      "\u001B[0;31m---------------------------------------------------------------------------\u001B[0m",
      "\u001B[0;31mAttributeError\u001B[0m                            Traceback (most recent call last)",
      "Cell \u001B[0;32mIn[9], line 5\u001B[0m\n\u001B[1;32m      3\u001B[0m num_devices \u001B[38;5;241m=\u001B[39m supervisor\u001B[38;5;241m.\u001B[39mgetNumberOfDevices()\n\u001B[1;32m      4\u001B[0m \u001B[38;5;28;01mfor\u001B[39;00m i \u001B[38;5;129;01min\u001B[39;00m \u001B[38;5;28mrange\u001B[39m(num_devices):\n\u001B[0;32m----> 5\u001B[0m     device \u001B[38;5;241m=\u001B[39m \u001B[43msupervisor\u001B[49m\u001B[38;5;241;43m.\u001B[39;49m\u001B[43mgetDeviceByIndex\u001B[49m\u001B[43m(\u001B[49m\u001B[43mi\u001B[49m\u001B[43m)\u001B[49m\n\u001B[1;32m      6\u001B[0m     \u001B[38;5;28;01mif\u001B[39;00m \u001B[38;5;129;01mnot\u001B[39;00m \u001B[38;5;124m'\u001B[39m\u001B[38;5;124msensor\u001B[39m\u001B[38;5;124m'\u001B[39m \u001B[38;5;129;01min\u001B[39;00m device\u001B[38;5;241m.\u001B[39mgetName():\n\u001B[1;32m      7\u001B[0m         joints\u001B[38;5;241m.\u001B[39mappend(device)\n",
      "File \u001B[0;32m~/ENGA75/TrabalhoRoboticaWebots/controller/robot.py:260\u001B[0m, in \u001B[0;36mRobot.getDeviceByIndex\u001B[0;34m(self, index)\u001B[0m\n\u001B[1;32m    258\u001B[0m tag \u001B[38;5;241m=\u001B[39m wb\u001B[38;5;241m.\u001B[39mwb_robot_get_device_by_index(index)\n\u001B[1;32m    259\u001B[0m name \u001B[38;5;241m=\u001B[39m wb\u001B[38;5;241m.\u001B[39mwb_device_get_name(tag)\u001B[38;5;241m.\u001B[39mdecode()\n\u001B[0;32m--> 260\u001B[0m \u001B[38;5;28;01mreturn\u001B[39;00m \u001B[38;5;28;43mself\u001B[39;49m\u001B[38;5;241;43m.\u001B[39;49m\u001B[43mdevices\u001B[49m[name]\n",
      "\u001B[0;31mAttributeError\u001B[0m: 'Supervisor' object has no attribute 'devices'"
     ]
    }
   ],
   "source": [
    "joints = []\n",
    "joint_sensors = []\n",
    "num_devices = supervisor.getNumberOfDevices()\n",
    "for i in range(num_devices):\n",
    "    device = supervisor.getDeviceByIndex(i)\n",
    "    if not 'sensor' in device.getName():\n",
    "        joints.append(device)\n",
    "    else:\n",
    "        joint_sensors.append(device)\n",
    "        device.enable(timestep)\n",
    "\n",
    "# Print the device names\n",
    "for i, joint in enumerate(joints):\n",
    "    print(joint)\n",
    "    print(joint_sensors[i])\n",
    "    joint.setPosition(float('inf'))\n",
    "    joint.setVelocity(0)\n",
    "    joint.setControlPID(1, 0, 0)\n"
   ],
   "metadata": {
    "collapsed": false,
    "ExecuteTime": {
     "start_time": "2023-06-06T13:59:22.390305Z",
     "end_time": "2023-06-06T13:59:22.392866Z"
    }
   }
  },
  {
   "cell_type": "code",
   "execution_count": 6,
   "outputs": [
    {
     "data": {
      "text/plain": "0"
     },
     "execution_count": 6,
     "metadata": {},
     "output_type": "execute_result"
    }
   ],
   "source": [
    "supervisor.step(timestep)"
   ],
   "metadata": {
    "collapsed": false,
    "ExecuteTime": {
     "start_time": "2023-06-06T13:53:33.712770Z",
     "end_time": "2023-06-06T13:53:33.739665Z"
    }
   }
  },
  {
   "cell_type": "code",
   "execution_count": 7,
   "outputs": [],
   "source": [
    "def get_joint_angles():\n",
    "    angles = [joint_sensor.getValue() for joint_sensor in joint_sensors]\n",
    "    angles[0] -= pi\n",
    "    angles[1] += pi/2\n",
    "    angles[3] += pi/2\n",
    "    return angles"
   ],
   "metadata": {
    "collapsed": false,
    "ExecuteTime": {
     "start_time": "2023-06-06T13:53:35.345947Z",
     "end_time": "2023-06-06T13:53:35.347766Z"
    }
   }
  },
  {
   "cell_type": "code",
   "execution_count": 8,
   "outputs": [],
   "source": [
    "get_joint_angles()"
   ],
   "metadata": {
    "collapsed": false,
    "ExecuteTime": {
     "start_time": "2023-06-06T13:53:37.200991Z",
     "end_time": "2023-06-06T13:53:37.205686Z"
    }
   }
  },
  {
   "cell_type": "code",
   "execution_count": 9,
   "outputs": [],
   "source": [
    "import numpy as np"
   ],
   "metadata": {
    "collapsed": false,
    "ExecuteTime": {
     "start_time": "2023-06-06T13:53:39.154457Z",
     "end_time": "2023-06-06T13:53:39.196520Z"
    }
   }
  },
  {
   "cell_type": "code",
   "execution_count": 10,
   "outputs": [],
   "source": [
    "def move_to_config(target, duration=5):\n",
    "    t0 = supervisor.getTime()\n",
    "    v0 = np.zeros(6)\n",
    "    vf = np.zeros(6)\n",
    "    q0 = get_joint_angles()\n",
    "    qf = np.array(target)\n",
    "    a0 = np.zeros(6)\n",
    "    af = np.zeros(6)\n",
    "    tf = t0 + duration\n",
    "    A = np.array([[1, t0, t0**2, t0**3, t0**4, t0**5],\n",
    "                  [0, 1, 2*t0, 3*t0**2, 4*t0**3, 5*t0**4],\n",
    "                  [0, 0, 2, 6*t0, 12*t0**2, 20*t0**3],\n",
    "                  [1, tf, tf**2, tf**3, tf**4, tf**5],\n",
    "                  [0, 1, 2*tf, 3*tf**2, 4*tf**3, 5*tf**4],\n",
    "                  [0, 0, 2, 6*tf, 12*tf**2, 20*tf**3]])\n",
    "    b = np.array([q0, v0, a0, qf, vf, af])\n",
    "    x = [np.linalg.solve(A, b[:, i]) for i in range(6)]\n",
    "    time0 = supervisor.getTime()\n",
    "    iterations = 0\n",
    "    end_effector_vel = []\n",
    "    vel_jacob = [[], [], [], [], [], []]\n",
    "    pos = [[], [], [], [], [], []]\n",
    "    vel = [[], [], [], [], [], []]\n",
    "    acc = [[], [], [], [], [], []]\n",
    "    jerk = [[], [], [], [], [], []]\n",
    "    time_arr = [[], [], [], [], [], []]\n",
    "    while supervisor.getTime() <= tf:\n",
    "        t = supervisor.getTime()\n",
    "        for joint in joints:\n",
    "            joint.setVelocity(x[joints.index(joint)][1] +\n",
    "                              2*x[joints.index(joint)][2]*t +\n",
    "                              3*x[joints.index(joint)][3]*t**2 +\n",
    "                              4*x[joints.index(joint)][4]*t**3 +\n",
    "                              5*x[joints.index(joint)][5]*t**4)\n",
    "\n",
    "\n",
    "            idx = joints.index(joint)\n",
    "            p = x[idx][0] + x[idx][1]*t + x[idx][2]*t**2 + x[idx][3]*t**3 + x[idx][4]*t**4 + x[idx][5]*t**5\n",
    "            v = x[idx][1] + 2*x[idx][2]*t + 3*x[idx][3]*t**2 + 4*x[idx][4]*t**3 + 5*x[idx][5]*t**4\n",
    "            a = 2*x[idx][2] + 6*x[idx][3]*t + 12*x[idx][4]*t**2 + 20*x[idx][5]*t**3\n",
    "            j = 6*x[idx][3] + 24*x[idx][4]*t + 60*x[idx][5]*t**2\n",
    "            time_arr[idx].append(t-time0)\n",
    "            pos[idx].append(p)\n",
    "            vel[idx].append(v)\n",
    "            acc[idx].append(a)\n",
    "            jerk[idx].append(j)\n",
    "            v = x[idx][1] + 2*x[idx][2]*t + 3*x[idx][3]*t**2 + 4*x[idx][4]*t**3 + 5*x[idx][5]*t**4\n",
    "            vel_jacob[idx].append(v)\n",
    "        supervisor.step(timestep)\n",
    "        iterations += 1\n",
    "    for joint in joints:\n",
    "        joint.setVelocity(0)\n",
    "    timef = supervisor.getTime()\n",
    "    error = np.abs(np.array(target) - get_joint_angles())*180/np.pi\n",
    "    print('Iterações totais: ', iterations)\n",
    "    print(timef-time0)\n",
    "    print(np.max(error))\n",
    "    print(np.mean(error))"
   ],
   "metadata": {
    "collapsed": false,
    "ExecuteTime": {
     "start_time": "2023-06-06T13:53:41.898378Z",
     "end_time": "2023-06-06T13:53:41.903348Z"
    }
   }
  },
  {
   "cell_type": "code",
   "execution_count": 11,
   "outputs": [],
   "source": [
    "move_to_config([.5*pi, .05*pi, .45*pi, 0, -.5*pi, .5*pi])"
   ],
   "metadata": {
    "collapsed": false,
    "ExecuteTime": {
     "start_time": "2023-06-06T13:53:43.556997Z",
     "end_time": "2023-06-06T13:53:43.560885Z"
    }
   }
  },
  {
   "cell_type": "code",
   "execution_count": 17,
   "outputs": [],
   "source": [
    "move_to_config([-.5*pi, -.05*pi, -.45*pi, 0, .5*pi, .5*pi])"
   ],
   "metadata": {
    "collapsed": false,
    "ExecuteTime": {
     "start_time": "2023-06-06T13:55:14.400054Z",
     "end_time": "2023-06-06T13:55:16.413762Z"
    }
   }
  },
  {
   "cell_type": "code",
   "execution_count": 14,
   "outputs": [
    {
     "name": "stdout",
     "output_type": "stream",
     "text": [
      "Iterações totais:  157\n",
      "5.024000000000001\n",
      "0.1356020285598345\n",
      "0.032497642381255895\n"
     ]
    }
   ],
   "source": [
    "move_to_config([pi/2, 0, 0, 0, 0, 0])"
   ],
   "metadata": {
    "collapsed": false,
    "ExecuteTime": {
     "start_time": "2023-06-06T13:54:15.844476Z",
     "end_time": "2023-06-06T13:54:20.926604Z"
    }
   }
  },
  {
   "cell_type": "code",
   "execution_count": 15,
   "outputs": [
    {
     "name": "stdout",
     "output_type": "stream",
     "text": [
      "Iterações totais:  157\n",
      "5.023999999999999\n",
      "0.061164707273728684\n",
      "0.020201868583939905\n"
     ]
    }
   ],
   "source": [
    "move_to_config([.1*pi, .18*pi, .57*pi, 0.25*pi, 0.2, pi/2])"
   ],
   "metadata": {
    "collapsed": false,
    "ExecuteTime": {
     "start_time": "2023-06-06T13:54:24.129261Z",
     "end_time": "2023-06-06T13:54:29.211227Z"
    }
   }
  },
  {
   "cell_type": "code",
   "execution_count": 16,
   "outputs": [
    {
     "name": "stdout",
     "output_type": "stream",
     "text": [
      "Iterações totais:  157\n",
      "5.023999999999999\n",
      "0.008124500615705195\n",
      "0.002446577905664432\n"
     ]
    }
   ],
   "source": [
    "move_to_config([-.3*pi, -.04*pi, -.8*pi, -0.17*pi, -0.5, pi/2])"
   ],
   "metadata": {
    "collapsed": false,
    "ExecuteTime": {
     "start_time": "2023-06-06T13:55:06.969595Z",
     "end_time": "2023-06-06T13:55:12.047686Z"
    }
   }
  },
  {
   "cell_type": "code",
   "execution_count": 19,
   "outputs": [
    {
     "name": "stdout",
     "output_type": "stream",
     "text": [
      "Iterações totais:  157\n",
      "5.023999999999997\n",
      "0.0009451299559592636\n",
      "0.0005644981149434855\n"
     ]
    }
   ],
   "source": [
    "move_to_config([0.2, .04*pi, .8*pi, 0.17*pi, 0.3, pi/2])"
   ],
   "metadata": {
    "collapsed": false,
    "ExecuteTime": {
     "start_time": "2023-06-06T13:55:43.818666Z",
     "end_time": "2023-06-06T13:55:48.872835Z"
    }
   }
  }
 ],
 "metadata": {
  "kernelspec": {
   "display_name": "Python 3",
   "language": "python",
   "name": "python3"
  },
  "language_info": {
   "codemirror_mode": {
    "name": "ipython",
    "version": 2
   },
   "file_extension": ".py",
   "mimetype": "text/x-python",
   "name": "python",
   "nbconvert_exporter": "python",
   "pygments_lexer": "ipython2",
   "version": "2.7.6"
  }
 },
 "nbformat": 4,
 "nbformat_minor": 0
}
