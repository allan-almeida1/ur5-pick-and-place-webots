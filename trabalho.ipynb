{
 "cells": [
  {
   "cell_type": "code",
   "execution_count": 1,
   "metadata": {
    "ExecuteTime": {
     "end_time": "2023-06-06T20:33:58.579825Z",
     "start_time": "2023-06-06T20:33:58.531992Z"
    },
    "collapsed": true,
    "pycharm": {
     "is_executing": true
    }
   },
   "outputs": [
    {
     "name": "stdout",
     "output_type": "stream",
     "text": [
      "Inicializando a classe UR5...\n",
      "Inicializando os nós e handles...\n",
      "Pronto!\n"
     ]
    }
   ],
   "source": [
    "from ur5 import UR5\n",
    "from math import pi\n",
    "ur5 = UR5()"
   ]
  },
  {
   "cell_type": "code",
   "execution_count": 3,
   "metadata": {
    "ExecuteTime": {
     "end_time": "2023-06-06T20:39:30.874846Z",
     "start_time": "2023-06-06T20:39:28.848288Z"
    },
    "collapsed": false
   },
   "outputs": [
    {
     "name": "stdout",
     "output_type": "stream",
     "text": [
      "Iterações totais:  63\n",
      "2.016\n"
     ]
    }
   ],
   "source": [
    "ur5.actuate_gripper(close=0)"
   ]
  },
  {
   "cell_type": "code",
   "execution_count": 2,
   "metadata": {
    "ExecuteTime": {
     "end_time": "2023-06-06T20:39:38.138293Z",
     "start_time": "2023-06-06T20:39:33.074807Z"
    },
    "collapsed": false
   },
   "outputs": [
    {
     "name": "stdout",
     "output_type": "stream",
     "text": [
      "Iterações totais:  157\n"
     ]
    },
    {
     "data": {
      "text/plain": [
       "(5.024, 0.1360575231665497, 0.03294947782686581)"
      ]
     },
     "execution_count": 2,
     "metadata": {},
     "output_type": "execute_result"
    }
   ],
   "source": [
    "ur5.move_to_config([0, 0, 0, 0, 0, 0])"
   ]
  },
  {
   "cell_type": "code",
   "execution_count": 7,
   "metadata": {
    "ExecuteTime": {
     "end_time": "2023-06-06T20:36:29.744549Z",
     "start_time": "2023-06-06T20:36:24.591725Z"
    },
    "collapsed": false
   },
   "outputs": [
    {
     "name": "stdout",
     "output_type": "stream",
     "text": [
      "Iterações totais:  157\n"
     ]
    },
    {
     "data": {
      "text/plain": [
       "(5.024000000000001, 0.10390928968378059, 0.032766049589412795)"
      ]
     },
     "execution_count": 7,
     "metadata": {},
     "output_type": "execute_result"
    }
   ],
   "source": [
    "ur5.move_to_config([.5*pi, .05*pi, .45*pi, 0, -.5*pi, .5*pi])"
   ]
  },
  {
   "cell_type": "code",
   "execution_count": 17,
   "metadata": {
    "ExecuteTime": {
     "end_time": "2023-06-06T20:38:35.330598Z",
     "start_time": "2023-06-06T20:38:30.263746Z"
    },
    "collapsed": false
   },
   "outputs": [
    {
     "name": "stdout",
     "output_type": "stream",
     "text": [
      "Iterações totais:  157\n"
     ]
    },
    {
     "data": {
      "text/plain": [
       "(5.024000000000001, 0.1356689656504644, 0.033869113792508634)"
      ]
     },
     "execution_count": 17,
     "metadata": {},
     "output_type": "execute_result"
    }
   ],
   "source": [
    "ur5.move_to_config([.4*pi, .18*pi, .57*pi, 0.25*pi, 0.8, 0])"
   ]
  },
  {
   "cell_type": "code",
   "execution_count": null,
   "metadata": {
    "ExecuteTime": {
     "end_time": "2023-06-06T17:01:16.251656Z",
     "start_time": "2023-06-06T17:01:16.208996Z"
    },
    "collapsed": false
   },
   "outputs": [],
   "source": [
    "# bottle = supervisor.getFromDef('bottle')"
   ]
  },
  {
   "cell_type": "code",
   "execution_count": null,
   "metadata": {
    "ExecuteTime": {
     "end_time": "2023-06-06T17:11:59.339941Z",
     "start_time": "2023-06-06T17:11:59.292557Z"
    },
    "collapsed": false
   },
   "outputs": [],
   "source": [
    "# bottle.getField('translation').setSFVec3f([-1.467559345817077, 1.7836801495521285e-06, 0.9004484925267724])"
   ]
  },
  {
   "cell_type": "code",
   "execution_count": null,
   "metadata": {
    "ExecuteTime": {
     "end_time": "2023-06-06T17:17:59.302917Z",
     "start_time": "2023-06-06T17:17:59.298591Z"
    },
    "collapsed": false
   },
   "outputs": [],
   "source": [
    "# bottle.getField('translation').getSFVec3f()"
   ]
  }
 ],
 "metadata": {
  "kernelspec": {
   "display_name": "Python 3 (ipykernel)",
   "language": "python",
   "name": "python3"
  },
  "language_info": {
   "codemirror_mode": {
    "name": "ipython",
    "version": 3
   },
   "file_extension": ".py",
   "mimetype": "text/x-python",
   "name": "python",
   "nbconvert_exporter": "python",
   "pygments_lexer": "ipython3",
   "version": "3.9.16"
  }
 },
 "nbformat": 4,
 "nbformat_minor": 0
}
