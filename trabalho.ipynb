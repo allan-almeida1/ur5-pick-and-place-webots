{
 "cells": [
  {
   "attachments": {},
   "cell_type": "markdown",
   "metadata": {},
   "source": [
    "# Trabalho ENGA75"
   ]
  },
  {
   "attachments": {},
   "cell_type": "markdown",
   "metadata": {},
   "source": [
    "### Autor: Allan Almeida"
   ]
  },
  {
   "cell_type": "code",
   "execution_count": null,
   "metadata": {
    "ExecuteTime": {
     "end_time": "2023-06-06T20:33:58.579825Z",
     "start_time": "2023-06-06T20:33:58.531992Z"
    },
    "collapsed": true,
    "pycharm": {
     "is_executing": true
    }
   },
   "outputs": [],
   "source": [
    "from ur5 import UR5, forward_kinematics\n",
    "from math import pi\n",
    "import numpy as np\n",
    "import matplotlib.pyplot as plt\n",
    "import time\n",
    "ur5 = UR5()\n",
    "ur5.move_to_config([0, 0, 0, 0, 0, 0])\n",
    "PI = pi"
   ]
  },
  {
   "attachments": {},
   "cell_type": "markdown",
   "metadata": {},
   "source": [
    "## Etapa A1\n",
    "\n",
    "Implementar a Cinemática Direta e Inversa do Robô UR5. Validar a modelagem com o auxílio do\n",
    "simulador para um conjunto de valores das variáveis das juntas (Cinemática Direta) e para um conjunto de\n",
    "posições e orientações da garra (Cinemática Inversa)"
   ]
  },
  {
   "attachments": {},
   "cell_type": "markdown",
   "metadata": {},
   "source": [
    "#### Cinemática Direta"
   ]
  },
  {
   "attachments": {},
   "cell_type": "markdown",
   "metadata": {},
   "source": [
    "<img src=\"img/Cinemática Direta (DH).png\" width=\"500\">"
   ]
  },
  {
   "cell_type": "code",
   "execution_count": null,
   "metadata": {},
   "outputs": [],
   "source": [
    "from scipy.spatial.transform import Rotation\n",
    "from tabulate import tabulate\n",
    "def validate_fk(ang):\n",
    "    fk, _ = forward_kinematics(ang)    # Calcular cinemática direta a partir dos ângulos\n",
    "    print('Cinemática Direta: ')\n",
    "    print(fk)\n",
    "    ur5.move_to_config(ang)     # Mover para a posição\n",
    "    print('Ground Truth: ')\n",
    "    gt = ur5.get_ground_truth()     # Obter Ground Truth\n",
    "    print(gt)\n",
    "    Rfk = fk[:3, :3]     # Obter rotação da cinemática direta\n",
    "    Rgt = gt[:3, :3]     # Obter rotação do Ground Truth\n",
    "    R_diff = np.dot(Rfk, Rgt.T)     # Calcular diferença entre as rotações\n",
    "    r = Rotation.from_matrix(R_diff)    # Converter matriz de rotação para objeto de rotação\n",
    "    axis = r.as_rotvec()    # Obter vetor de rotação\n",
    "    angle = np.linalg.norm(axis)    # Obter ângulo de rotação\n",
    "    Tfk = fk[:3, 3]     # Obter translação da cinemática direta\n",
    "    Tgt = gt[:3, 3]     # Obter translação do Ground Truth\n",
    "    dist = np.linalg.norm(Tfk - Tgt)    # Calcular distância entre as translações\n",
    "    data = [['Erro de rotação', angle*180/PI, 'graus'], ['Erro de translação', dist*1000, 'mm']]    # Criar tabela\n",
    "    table = tabulate(data, headers=[' ', ' ', ' '])    # Criar tabela\n",
    "    print(table)    # Printar tabela"
   ]
  },
  {
   "cell_type": "code",
   "execution_count": null,
   "metadata": {},
   "outputs": [],
   "source": [
    "validate_fk([.5*PI, .05*PI, .45*PI, 0, -.5*PI, .5*PI])"
   ]
  },
  {
   "cell_type": "code",
   "execution_count": null,
   "metadata": {},
   "outputs": [],
   "source": [
    "validate_fk([-.5*PI, -.05*PI, -.45*PI, 0, .5*PI, .5*PI])"
   ]
  },
  {
   "cell_type": "code",
   "execution_count": null,
   "metadata": {},
   "outputs": [],
   "source": [
    "validate_fk([PI/2, 0, 0, 0, 0, 0])"
   ]
  },
  {
   "cell_type": "code",
   "execution_count": null,
   "metadata": {},
   "outputs": [],
   "source": [
    "validate_fk([.1*PI, .18*PI, .57*PI, 0.25*PI, 0.2, PI/2])"
   ]
  },
  {
   "cell_type": "code",
   "execution_count": null,
   "metadata": {},
   "outputs": [],
   "source": [
    "validate_fk([-.3*PI, -.04*PI, -.8*PI, -0.17*PI, -0.5, PI/2])"
   ]
  },
  {
   "cell_type": "code",
   "execution_count": null,
   "metadata": {},
   "outputs": [],
   "source": [
    "validate_fk([0.2, .04*PI, .8*PI, 0.17*PI, 0.3, PI/2])"
   ]
  },
  {
   "attachments": {},
   "cell_type": "markdown",
   "metadata": {},
   "source": [
    "#### Cinemática Inversa"
   ]
  },
  {
   "attachments": {},
   "cell_type": "markdown",
   "metadata": {},
   "source": [
    "<img src=\"img/gripper.jpg\" width=\"700\">"
   ]
  },
  {
   "cell_type": "code",
   "execution_count": null,
   "metadata": {},
   "outputs": [],
   "source": [
    "ur5.move_to_pose([-0.1, -.55, .4], [PI, 0, PI/2], wrist='up', verbose=True)"
   ]
  },
  {
   "cell_type": "code",
   "execution_count": null,
   "metadata": {},
   "outputs": [],
   "source": [
    "ur5.move_to_pose([-0.1, -.55, .4], [0, 0, -PI/2], wrist='down', verbose=True)"
   ]
  },
  {
   "cell_type": "code",
   "execution_count": null,
   "metadata": {},
   "outputs": [],
   "source": [
    "ur5.move_to_pose([-0.1, -.55, .4], [PI/2, 0, -PI/2], wrist='down', verbose=True)"
   ]
  },
  {
   "cell_type": "code",
   "execution_count": null,
   "metadata": {},
   "outputs": [],
   "source": [
    "ur5.move_to_pose([-0.1, -.45, .4], [PI/2, 0, -PI/2], wrist='down', verbose=True)"
   ]
  },
  {
   "cell_type": "code",
   "execution_count": null,
   "metadata": {},
   "outputs": [],
   "source": [
    "ur5.move_to_pose([-0.1, -.45, .6], [PI/2, 0, -PI/2], wrist='down', verbose=True)"
   ]
  },
  {
   "cell_type": "code",
   "execution_count": null,
   "metadata": {},
   "outputs": [],
   "source": [
    "ur5.move_to_pose([-0.1, -.65, .4], [PI/2, 0, -PI/2], wrist='down', shoulder=\"left\", verbose=True)"
   ]
  },
  {
   "cell_type": "code",
   "execution_count": null,
   "metadata": {},
   "outputs": [],
   "source": [
    "ur5.move_to_pose([-0.1, -.65, .4], [PI/2, 0, -PI/2], wrist='down', shoulder=\"right\", verbose=True)"
   ]
  },
  {
   "cell_type": "code",
   "execution_count": null,
   "metadata": {},
   "outputs": [],
   "source": [
    "ur5.move_to_pose([-0.1, -.65, .4], [PI/2, 0, -PI/2], wrist='up', shoulder=\"right\", verbose=True)"
   ]
  },
  {
   "attachments": {},
   "cell_type": "markdown",
   "metadata": {},
   "source": [
    "## Etapa A2\n",
    "\n",
    "Implementar um sistema de planejamento de trajetórias no espaço de juntas com uma das abordagens\n",
    "abaixo:\n",
    "\n",
    "1. Trajetórias polinomiais cúbicas ou de quinto grau;\n",
    "2. Linear Segments with Parabolic Blends (LSPB);\n",
    "3. Minimum Time Trajectories"
   ]
  },
  {
   "attachments": {},
   "cell_type": "markdown",
   "metadata": {},
   "source": [
    "<b>Polinômio de Quinto Grau</b>"
   ]
  },
  {
   "attachments": {},
   "cell_type": "markdown",
   "metadata": {},
   "source": [
    "$q(t) = a_0+a_1 t + a_2 t^2 + a_3 t^3 + a_4 t^4 + a_5 t^5$\n",
    "\n",
    "$\\dot{q}(t) = a_1 + 2 a_2 t + 3 a_3 t^2 + 4 a_4 t^3 + 5 a_5 t^4$\n",
    "\n",
    "$\\ddot{q}(t) = 2 a_2 + 6 a_3 t + 12 a_4 t^2 + 20 a_5 t^3$"
   ]
  },
  {
   "attachments": {},
   "cell_type": "markdown",
   "metadata": {},
   "source": [
    "$\\begin{bmatrix}\n",
    "1 & t_0 & t_0^2 & t_0^3 & t_0^4 & t_0^5\\\\\n",
    "0 & 1 & 2t_0 & 3t_0^2 & 4t_0^3 & 5t_0^4\\\\\n",
    "0 & 0 & 2 & 6t_0 & 12t_0^2 & 20t_0^3\\\\\n",
    "1 & t_f & t_f^2 & t_f^3 & t_f^4 & t_f^5\\\\\n",
    "0 & 1 & 2t_f & 3t_f^2 & 4t_f^3 & 5t_f^4\\\\\n",
    "0 & 0 & 2 & 6t_f & 12t_f^2 & 20t_f^3\\\\\n",
    "\\end{bmatrix} \\cdot \\begin{bmatrix}\n",
    "a_0\\\\\n",
    "a_1\\\\\n",
    "a_2\\\\\n",
    "a_3\\\\\n",
    "a_4\\\\\n",
    "a_5\\\\\n",
    "\\end{bmatrix} = \\begin{bmatrix}\n",
    "q_0\\\\\n",
    "\\dot{q}_0\\\\\n",
    "\\ddot{q}_0\\\\\n",
    "q_f\\\\\n",
    "\\dot{q}_f\\\\\n",
    "\\ddot{q}_f\\\\\n",
    "\\end{bmatrix}$\n",
    "\n",
    "\n",
    "$A\\cdot X = B$"
   ]
  },
  {
   "cell_type": "code",
   "execution_count": null,
   "metadata": {},
   "outputs": [],
   "source": [
    "t, max_err, mean_err, graphs, _ = ur5.move_to_config([-PI, .2*PI, .45*PI, 0, .5*PI, .3*PI], graph=True)"
   ]
  },
  {
   "cell_type": "code",
   "execution_count": null,
   "metadata": {},
   "outputs": [],
   "source": [
    "titles = ['Posição', 'Velocidade', 'Aceleração', 'Solavanco']\n",
    "axes = ['rad', 'rad/s', 'rad/$s^2$', 'rad/$s^3$']\n",
    "\n",
    "for i in range(4):\n",
    "    for j in range(6):\n",
    "        plt.plot(graphs[4][j], graphs[i][j])\n",
    "    plt.legend(['q1', 'q2', 'q3', 'q4', 'q5', 'q6'])\n",
    "    plt.grid()\n",
    "    plt.title(titles[i], fontsize=18)\n",
    "    plt.ylabel(axes[i], rotation=0, labelpad=20)\n",
    "    plt.xlabel('t [s]')\n",
    "    plt.show()"
   ]
  },
  {
   "attachments": {},
   "cell_type": "markdown",
   "metadata": {},
   "source": [
    "## Jacobiano"
   ]
  },
  {
   "cell_type": "code",
   "execution_count": null,
   "metadata": {},
   "outputs": [],
   "source": [
    "_, _, _, _, _ = ur5.move_to_config([0, 0, 0, 0, 0, 0])"
   ]
  },
  {
   "cell_type": "code",
   "execution_count": null,
   "metadata": {},
   "outputs": [],
   "source": [
    "_, _, _, graphs, jacob = ur5.move_to_config([0, 0, -PI/2, 0, 0, 0], graph=True, jacob=True, duration=None)"
   ]
  },
  {
   "cell_type": "code",
   "execution_count": null,
   "metadata": {},
   "outputs": [],
   "source": [
    "for j in range(6):\n",
    "    plt.plot(graphs[4][j], graphs[1][j])\n",
    "plt.legend(['q1', 'q2', 'q3', 'q4', 'q5', 'q6'])\n",
    "plt.grid()\n",
    "plt.title('Velocidade', fontsize=18)\n",
    "plt.ylabel('rad/s', rotation=0, labelpad=20)\n",
    "plt.xlabel('t [s]')\n",
    "plt.show()"
   ]
  },
  {
   "cell_type": "code",
   "execution_count": null,
   "metadata": {},
   "outputs": [],
   "source": [
    "for j in range(3):\n",
    "    plt.plot(graphs[4][j], [i[j] for i in jacob])\n",
    "plt.title('Jacobiano (vel. lin.)', fontsize=18)\n",
    "plt.legend(['$v_x$', '$v_y$', '$v_z$'])\n",
    "plt.xlabel('t [s]')\n",
    "plt.ylabel('m/s', rotation=0, labelpad=20)\n",
    "plt.show()\n",
    "\n",
    "for j in range(3, 6):\n",
    "    plt.plot(graphs[4][j], [i[j] for i in jacob])\n",
    "plt.title('Jacobiano (vel,. ang.)', fontsize=18)\n",
    "plt.legend(['$\\omega_x$', '$\\omega_y$', '$\\omega_z$'])\n",
    "plt.xlabel('t [s]')\n",
    "plt.ylabel('rad/s', rotation=0, labelpad=20)\n",
    "plt.show()"
   ]
  },
  {
   "attachments": {},
   "cell_type": "markdown",
   "metadata": {},
   "source": [
    "## Visão Computacional | Pick and Place"
   ]
  },
  {
   "attachments": {},
   "cell_type": "markdown",
   "metadata": {},
   "source": [
    "### Pose de Leitura"
   ]
  },
  {
   "cell_type": "code",
   "execution_count": null,
   "metadata": {},
   "outputs": [],
   "source": [
    "ur5.actuate_gripper(0)"
   ]
  },
  {
   "cell_type": "code",
   "execution_count": null,
   "metadata": {},
   "outputs": [],
   "source": [
    "ur5.move_to_pose([-0.1, -.68, .45], [PI, 0, -PI/2], wrist='up')"
   ]
  },
  {
   "cell_type": "code",
   "execution_count": null,
   "metadata": {},
   "outputs": [],
   "source": [
    "bottle_position = ur5.predict_bottle_position()"
   ]
  },
  {
   "attachments": {},
   "cell_type": "markdown",
   "metadata": {},
   "source": [
    "### Pre-graspping"
   ]
  },
  {
   "cell_type": "code",
   "execution_count": null,
   "metadata": {},
   "outputs": [],
   "source": [
    "ur5.move_to_pose([bottle_position[0], bottle_position[1]+.2, .35], [PI/2, 0, -PI/2], wrist='down')"
   ]
  },
  {
   "cell_type": "code",
   "execution_count": null,
   "metadata": {},
   "outputs": [],
   "source": [
    "ur5.move_to_pose([bottle_position[0], bottle_position[1]+.15, .1], [PI/2, 0, -PI/2], wrist='down')"
   ]
  },
  {
   "attachments": {},
   "cell_type": "markdown",
   "metadata": {},
   "source": [
    "### Graspping"
   ]
  },
  {
   "cell_type": "code",
   "execution_count": null,
   "metadata": {},
   "outputs": [],
   "source": [
    "ur5.move_to_pose([bottle_position[0], bottle_position[1]+.01, .1], [PI/2, 0, -PI/2], wrist='down', duration=6)"
   ]
  },
  {
   "cell_type": "code",
   "execution_count": null,
   "metadata": {},
   "outputs": [],
   "source": [
    "ur5.actuate_gripper(1)"
   ]
  },
  {
   "attachments": {},
   "cell_type": "markdown",
   "metadata": {},
   "source": [
    "### Moving"
   ]
  },
  {
   "cell_type": "code",
   "execution_count": null,
   "metadata": {},
   "outputs": [],
   "source": [
    "ur5.move_to_pose([-.62, 0.08, .7], [-PI/2, 0, PI/2], wrist='down')"
   ]
  },
  {
   "cell_type": "code",
   "execution_count": null,
   "metadata": {},
   "outputs": [],
   "source": [
    "ur5.move_to_pose([-.67, 0.08, .7], [-PI/2, 0, PI/2-1.5], wrist='down')\n",
    "time.sleep(2)"
   ]
  },
  {
   "attachments": {},
   "cell_type": "markdown",
   "metadata": {},
   "source": [
    "### Pre-placing"
   ]
  },
  {
   "cell_type": "code",
   "execution_count": null,
   "metadata": {},
   "outputs": [],
   "source": [
    "ur5.move_to_pose([-.4, 0.08, .7], [-PI/2, 0, PI/2], wrist='down')"
   ]
  },
  {
   "cell_type": "code",
   "execution_count": null,
   "metadata": {},
   "outputs": [],
   "source": [
    "ur5.move_to_pose([-.4, .1, .5], [-PI/2, 0, PI/2], wrist='up')"
   ]
  },
  {
   "attachments": {},
   "cell_type": "markdown",
   "metadata": {},
   "source": [
    "### Placing"
   ]
  },
  {
   "cell_type": "code",
   "execution_count": null,
   "metadata": {},
   "outputs": [],
   "source": [
    "ur5.move_to_pose([-.4, .1, .11], [-PI/2, 0, PI/2], wrist='up', duration=6)"
   ]
  },
  {
   "cell_type": "code",
   "execution_count": null,
   "metadata": {},
   "outputs": [],
   "source": [
    "ur5.actuate_gripper(0)"
   ]
  },
  {
   "cell_type": "code",
   "execution_count": null,
   "metadata": {},
   "outputs": [],
   "source": [
    "ur5.move_to_pose([-.4, -.1, .15], [-PI/2, 0, PI/2], wrist='up')"
   ]
  },
  {
   "attachments": {},
   "cell_type": "markdown",
   "metadata": {},
   "source": [
    "### Retorna pose de leitura"
   ]
  },
  {
   "cell_type": "code",
   "execution_count": null,
   "metadata": {},
   "outputs": [],
   "source": [
    "ur5.move_to_pose([-0.1, -.68, .45], [PI, 0, -PI/2], wrist='up')"
   ]
  }
 ],
 "metadata": {
  "kernelspec": {
   "display_name": "Python 3 (ipykernel)",
   "language": "python",
   "name": "python3"
  },
  "language_info": {
   "codemirror_mode": {
    "name": "ipython",
    "version": 3
   },
   "file_extension": ".py",
   "mimetype": "text/x-python",
   "name": "python",
   "nbconvert_exporter": "python",
   "pygments_lexer": "ipython3",
   "version": "3.9.16"
  }
 },
 "nbformat": 4,
 "nbformat_minor": 0
}
