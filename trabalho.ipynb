{
 "cells": [
  {
   "cell_type": "code",
   "execution_count": 1,
   "metadata": {
    "collapsed": true,
    "ExecuteTime": {
     "start_time": "2023-06-06T14:12:19.062268Z",
     "end_time": "2023-06-06T14:12:19.063295Z"
    }
   },
   "outputs": [],
   "source": [
    "from controller import Supervisor\n",
    "from math import pi"
   ]
  },
  {
   "cell_type": "code",
   "execution_count": 2,
   "outputs": [],
   "source": [
    "supervisor = Supervisor()"
   ],
   "metadata": {
    "collapsed": false,
    "ExecuteTime": {
     "start_time": "2023-06-06T14:12:20.583553Z",
     "end_time": "2023-06-06T14:12:20.587800Z"
    }
   }
  },
  {
   "cell_type": "code",
   "execution_count": 3,
   "outputs": [],
   "source": [
    "timestep = int(supervisor.getBasicTimeStep())"
   ],
   "metadata": {
    "collapsed": false,
    "ExecuteTime": {
     "start_time": "2023-06-06T14:12:22.183001Z",
     "end_time": "2023-06-06T14:12:22.184175Z"
    }
   }
  },
  {
   "cell_type": "code",
   "execution_count": 4,
   "outputs": [],
   "source": [
    "joints = ['shoulder_pan_joint', 'shoulder_lift_joint', 'elbow_joint', 'wrist_1_joint', 'wrist_2_joint', 'wrist_3_joint']\n",
    "joints = [supervisor.getDevice(joint) for joint in joints]\n",
    "\n",
    "for dev in joints:\n",
    "    dev.setPosition(float('inf'))\n",
    "    dev.setVelocity(0)\n",
    "    dev.setControlPID(1, 0, 0)\n",
    "    dev.getPositionSensor().enable(timestep)\n"
   ],
   "metadata": {
    "collapsed": false,
    "ExecuteTime": {
     "start_time": "2023-06-06T14:12:28.985175Z",
     "end_time": "2023-06-06T14:12:28.987351Z"
    }
   }
  },
  {
   "cell_type": "code",
   "execution_count": 5,
   "outputs": [
    {
     "data": {
      "text/plain": "0"
     },
     "execution_count": 5,
     "metadata": {},
     "output_type": "execute_result"
    }
   ],
   "source": [
    "supervisor.step(timestep)"
   ],
   "metadata": {
    "collapsed": false,
    "ExecuteTime": {
     "start_time": "2023-06-06T14:12:31.407876Z",
     "end_time": "2023-06-06T14:12:31.436294Z"
    }
   }
  },
  {
   "cell_type": "code",
   "execution_count": 6,
   "outputs": [],
   "source": [
    "def get_joint_angles():\n",
    "    angles = [joint.getPositionSensor().getValue() for joint in joints]\n",
    "    angles[0] -= pi\n",
    "    angles[1] += pi/2\n",
    "    angles[3] += pi/2\n",
    "    return angles"
   ],
   "metadata": {
    "collapsed": false,
    "ExecuteTime": {
     "start_time": "2023-06-06T14:12:33.535177Z",
     "end_time": "2023-06-06T14:12:33.539947Z"
    }
   }
  },
  {
   "cell_type": "code",
   "execution_count": 8,
   "outputs": [],
   "source": [
    "get_joint_angles()"
   ],
   "metadata": {
    "collapsed": false,
    "ExecuteTime": {
     "start_time": "2023-06-06T13:53:37.200991Z",
     "end_time": "2023-06-06T13:53:37.205686Z"
    }
   }
  },
  {
   "cell_type": "code",
   "execution_count": 7,
   "outputs": [],
   "source": [
    "import numpy as np"
   ],
   "metadata": {
    "collapsed": false,
    "ExecuteTime": {
     "start_time": "2023-06-06T14:12:36.638634Z",
     "end_time": "2023-06-06T14:12:36.692237Z"
    }
   }
  },
  {
   "cell_type": "code",
   "execution_count": 8,
   "outputs": [],
   "source": [
    "def move_to_config(target, duration=5):\n",
    "    t0 = supervisor.getTime()\n",
    "    v0 = np.zeros(6)\n",
    "    vf = np.zeros(6)\n",
    "    q0 = get_joint_angles()\n",
    "    qf = np.array(target)\n",
    "    a0 = np.zeros(6)\n",
    "    af = np.zeros(6)\n",
    "    tf = t0 + duration\n",
    "    A = np.array([[1, t0, t0**2, t0**3, t0**4, t0**5],\n",
    "                  [0, 1, 2*t0, 3*t0**2, 4*t0**3, 5*t0**4],\n",
    "                  [0, 0, 2, 6*t0, 12*t0**2, 20*t0**3],\n",
    "                  [1, tf, tf**2, tf**3, tf**4, tf**5],\n",
    "                  [0, 1, 2*tf, 3*tf**2, 4*tf**3, 5*tf**4],\n",
    "                  [0, 0, 2, 6*tf, 12*tf**2, 20*tf**3]])\n",
    "    b = np.array([q0, v0, a0, qf, vf, af])\n",
    "    x = [np.linalg.solve(A, b[:, i]) for i in range(6)]\n",
    "    time0 = supervisor.getTime()\n",
    "    iterations = 0\n",
    "    end_effector_vel = []\n",
    "    vel_jacob = [[], [], [], [], [], []]\n",
    "    pos = [[], [], [], [], [], []]\n",
    "    vel = [[], [], [], [], [], []]\n",
    "    acc = [[], [], [], [], [], []]\n",
    "    jerk = [[], [], [], [], [], []]\n",
    "    time_arr = [[], [], [], [], [], []]\n",
    "    while supervisor.getTime() <= tf:\n",
    "        t = supervisor.getTime()\n",
    "        for joint in joints:\n",
    "            joint.setVelocity(x[joints.index(joint)][1] +\n",
    "                              2*x[joints.index(joint)][2]*t +\n",
    "                              3*x[joints.index(joint)][3]*t**2 +\n",
    "                              4*x[joints.index(joint)][4]*t**3 +\n",
    "                              5*x[joints.index(joint)][5]*t**4)\n",
    "\n",
    "\n",
    "            idx = joints.index(joint)\n",
    "            p = x[idx][0] + x[idx][1]*t + x[idx][2]*t**2 + x[idx][3]*t**3 + x[idx][4]*t**4 + x[idx][5]*t**5\n",
    "            v = x[idx][1] + 2*x[idx][2]*t + 3*x[idx][3]*t**2 + 4*x[idx][4]*t**3 + 5*x[idx][5]*t**4\n",
    "            a = 2*x[idx][2] + 6*x[idx][3]*t + 12*x[idx][4]*t**2 + 20*x[idx][5]*t**3\n",
    "            j = 6*x[idx][3] + 24*x[idx][4]*t + 60*x[idx][5]*t**2\n",
    "            time_arr[idx].append(t-time0)\n",
    "            pos[idx].append(p)\n",
    "            vel[idx].append(v)\n",
    "            acc[idx].append(a)\n",
    "            jerk[idx].append(j)\n",
    "            v = x[idx][1] + 2*x[idx][2]*t + 3*x[idx][3]*t**2 + 4*x[idx][4]*t**3 + 5*x[idx][5]*t**4\n",
    "            vel_jacob[idx].append(v)\n",
    "        supervisor.step(timestep)\n",
    "        iterations += 1\n",
    "    for joint in joints:\n",
    "        joint.setVelocity(0)\n",
    "    timef = supervisor.getTime()\n",
    "    error = np.abs(np.array(target) - get_joint_angles())*180/np.pi\n",
    "    print('Iterações totais: ', iterations)\n",
    "    print(timef-time0)\n",
    "    print(np.max(error))\n",
    "    print(np.mean(error))"
   ],
   "metadata": {
    "collapsed": false,
    "ExecuteTime": {
     "start_time": "2023-06-06T14:12:38.410294Z",
     "end_time": "2023-06-06T14:12:38.411768Z"
    }
   }
  },
  {
   "cell_type": "code",
   "execution_count": 9,
   "outputs": [
    {
     "name": "stdout",
     "output_type": "stream",
     "text": [
      "Iterações totais:  157\n",
      "5.024\n",
      "0.1360669351890225\n",
      "0.03295578691285451\n"
     ]
    }
   ],
   "source": [
    "move_to_config([0, 0, 0, 0, 0, 0])"
   ],
   "metadata": {
    "collapsed": false,
    "ExecuteTime": {
     "start_time": "2023-06-06T14:12:46.484447Z",
     "end_time": "2023-06-06T14:12:51.593958Z"
    }
   }
  },
  {
   "cell_type": "code",
   "execution_count": 10,
   "outputs": [
    {
     "name": "stdout",
     "output_type": "stream",
     "text": [
      "Iterações totais:  157\n",
      "5.024\n",
      "0.061003465217474226\n",
      "0.020192115202144784\n"
     ]
    }
   ],
   "source": [
    "move_to_config([.5*pi, .05*pi, .45*pi, 0, -.5*pi, .5*pi])"
   ],
   "metadata": {
    "collapsed": false,
    "ExecuteTime": {
     "start_time": "2023-06-06T14:13:04.402640Z",
     "end_time": "2023-06-06T14:13:09.472073Z"
    }
   }
  },
  {
   "cell_type": "code",
   "execution_count": 17,
   "outputs": [],
   "source": [
    "move_to_config([-.5*pi, -.05*pi, -.45*pi, 0, .5*pi, .5*pi])"
   ],
   "metadata": {
    "collapsed": false,
    "ExecuteTime": {
     "start_time": "2023-06-06T13:55:14.400054Z",
     "end_time": "2023-06-06T13:55:16.413762Z"
    }
   }
  },
  {
   "cell_type": "code",
   "execution_count": 14,
   "outputs": [
    {
     "name": "stdout",
     "output_type": "stream",
     "text": [
      "Iterações totais:  157\n",
      "5.024000000000001\n",
      "0.1356020285598345\n",
      "0.032497642381255895\n"
     ]
    }
   ],
   "source": [
    "move_to_config([pi/2, 0, 0, 0, 0, 0])"
   ],
   "metadata": {
    "collapsed": false,
    "ExecuteTime": {
     "start_time": "2023-06-06T13:54:15.844476Z",
     "end_time": "2023-06-06T13:54:20.926604Z"
    }
   }
  },
  {
   "cell_type": "code",
   "execution_count": 15,
   "outputs": [
    {
     "name": "stdout",
     "output_type": "stream",
     "text": [
      "Iterações totais:  157\n",
      "5.023999999999999\n",
      "0.061164707273728684\n",
      "0.020201868583939905\n"
     ]
    }
   ],
   "source": [
    "move_to_config([.1*pi, .18*pi, .57*pi, 0.25*pi, 0.2, pi/2])"
   ],
   "metadata": {
    "collapsed": false,
    "ExecuteTime": {
     "start_time": "2023-06-06T13:54:24.129261Z",
     "end_time": "2023-06-06T13:54:29.211227Z"
    }
   }
  },
  {
   "cell_type": "code",
   "execution_count": 16,
   "outputs": [
    {
     "name": "stdout",
     "output_type": "stream",
     "text": [
      "Iterações totais:  157\n",
      "5.023999999999999\n",
      "0.008124500615705195\n",
      "0.002446577905664432\n"
     ]
    }
   ],
   "source": [
    "move_to_config([-.3*pi, -.04*pi, -.8*pi, -0.17*pi, -0.5, pi/2])"
   ],
   "metadata": {
    "collapsed": false,
    "ExecuteTime": {
     "start_time": "2023-06-06T13:55:06.969595Z",
     "end_time": "2023-06-06T13:55:12.047686Z"
    }
   }
  },
  {
   "cell_type": "code",
   "execution_count": 19,
   "outputs": [
    {
     "name": "stdout",
     "output_type": "stream",
     "text": [
      "Iterações totais:  157\n",
      "5.023999999999997\n",
      "0.0009451299559592636\n",
      "0.0005644981149434855\n"
     ]
    }
   ],
   "source": [
    "move_to_config([0.2, .04*pi, .8*pi, 0.17*pi, 0.3, pi/2])"
   ],
   "metadata": {
    "collapsed": false,
    "ExecuteTime": {
     "start_time": "2023-06-06T13:55:43.818666Z",
     "end_time": "2023-06-06T13:55:48.872835Z"
    }
   }
  }
 ],
 "metadata": {
  "kernelspec": {
   "display_name": "Python 3",
   "language": "python",
   "name": "python3"
  },
  "language_info": {
   "codemirror_mode": {
    "name": "ipython",
    "version": 2
   },
   "file_extension": ".py",
   "mimetype": "text/x-python",
   "name": "python",
   "nbconvert_exporter": "python",
   "pygments_lexer": "ipython2",
   "version": "2.7.6"
  }
 },
 "nbformat": 4,
 "nbformat_minor": 0
}
